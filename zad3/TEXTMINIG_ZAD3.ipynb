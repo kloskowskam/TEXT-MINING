{
  "nbformat": 4,
  "nbformat_minor": 0,
  "metadata": {
    "colab": {
      "name": "TEXTMINIG_ZAD3.ipynb",
      "provenance": [],
      "collapsed_sections": [
        "GaeoEuOo6bKf",
        "IiiaoSsM_Kc6",
        "iOZw0tU8RWm9",
        "BsV2NdShA18g",
        "r37GVDamE_wt",
        "Wd5Bu2n0GfvF",
        "T79x9L6wSDPY",
        "sGUB6xaYk675",
        "roBygwHYf-LZ",
        "iwbrWmnQWJ8S",
        "ckSG6zBFZEqp"
      ]
    },
    "kernelspec": {
      "name": "python3",
      "display_name": "Python 3"
    },
    "language_info": {
      "name": "python"
    }
  },
  "cells": [
    {
      "cell_type": "markdown",
      "source": [
        "# Zadanie 3 TEXT MINING\n",
        "Plik superheroes.xlsx zawiera dane dotyczące komiksowych superbohaterek i superbohaterów.\n",
        "Zadanie polega na zbudowaniu klasyfikatora, który na podstawie historii danej postaci (pole\n",
        "history_text) oraz opisu jej supermocy (pole powers_text) stwierdzi z jakiego wydawnictwa ona\n",
        "pochodzi. Dokładniej mówiąc klasyfikator powinien przypisać postać do jednej z trzech klas: Marvel\n",
        "Comics, DC Comics, inne wydawnictwo (informacja o wydawnictwie znajduje się w polu creator). \n",
        "1. Podziel dane na zbiór uczący i testowy (w proporcjach 70% - 30%). Zadbaj o odpowiednią\n",
        "reprezentację wszystkich klas w obu zbiorach.\n",
        "2. Przekształć dane do postaci nadającej się do analizy.\n",
        "3. Zbuduj przynajmniej trzy klasyfikatory różnego typu. Dobierz optymalne wartości\n",
        "parametrów tych klasyfikatorów oraz optymalną reprezentację danych tekstowych.\n",
        "4. Sprawdź jakość zbudowanych klasyfikatorów na zbiorze testowym, stosując odpowiednie\n",
        "miary jakości. Porównaj wyniki uzyskane przez te klasyfikatory.\n",
        "5. Na podstawie zbioru uczącego utwórz listy 30 słów, które mają największy wpływ na\n",
        "zaklasyfikowanie postaci do danego wydawnictwa (niektóre klasyfikatory pozwalają na\n",
        "wydobycie takich danych, można też dokonać analizy porównawczej częstości występowania\n",
        "wyrazów w poszczególnych klasach).\n",
        "6. Sprawdź, jak wpłynie na jakość klasyfikacji uwzględnienie innych cech postaci (tzn. tych\n",
        "niepochodzących z pól history_text i powers_text). "
      ],
      "metadata": {
        "id": "fX8iMF7v6WOk"
      }
    },
    {
      "cell_type": "code",
      "source": [
        "import pandas as pd\n",
        "import numpy as np\n",
        "\n",
        "from sklearn.model_selection import train_test_split\n",
        "\n",
        "import nltk\n",
        "from nltk.corpus import stopwords\n",
        "import re\n",
        "from nltk.stem import WordNetLemmatizer \n",
        "from sklearn.pipeline import Pipeline\n",
        "from sklearn.feature_extraction.text import CountVectorizer \n",
        "from sklearn.feature_extraction.text import TfidfTransformer\n",
        "\n",
        "nltk.download('stopwords')\n",
        "nltk.download('punkt')\n",
        "nltk.download('wordnet')\n",
        "\n",
        "from sklearn.feature_extraction.text import TfidfVectorizer\n",
        "\n",
        "from sklearn.naive_bayes import GaussianNB\n",
        "from sklearn.metrics import classification_report\n",
        "\n",
        "from sklearn.neighbors import KNeighborsClassifier\n",
        "\n",
        "from sklearn import tree\n",
        "\n",
        "from sklearn.model_selection import GridSearchCV\n",
        "from sklearn.svm import SVC\n",
        "from sklearn.model_selection import cross_val_score\n",
        "from sklearn.metrics import confusion_matrix\n",
        "from sklearn.model_selection import cross_validate\n",
        "from sklearn.svm import LinearSVC\n",
        "\n",
        "from yellowbrick.classifier import ROCAUC\n"
      ],
      "metadata": {
        "colab": {
          "base_uri": "https://localhost:8080/"
        },
        "id": "cH06TATkL7NJ",
        "outputId": "f75477ed-5294-4af7-8913-480922fd336f"
      },
      "execution_count": 1,
      "outputs": [
        {
          "output_type": "stream",
          "name": "stdout",
          "text": [
            "[nltk_data] Downloading package stopwords to /root/nltk_data...\n",
            "[nltk_data]   Unzipping corpora/stopwords.zip.\n",
            "[nltk_data] Downloading package punkt to /root/nltk_data...\n",
            "[nltk_data]   Unzipping tokenizers/punkt.zip.\n",
            "[nltk_data] Downloading package wordnet to /root/nltk_data...\n",
            "[nltk_data]   Unzipping corpora/wordnet.zip.\n"
          ]
        }
      ]
    },
    {
      "cell_type": "markdown",
      "source": [
        "# 1. Klasyfikacja dla dwóch zmiennych *history_text* oraz *powers_text*\n",
        "\n",
        "\n",
        "\n"
      ],
      "metadata": {
        "id": "pBrgPAH8RnJx"
      }
    },
    {
      "cell_type": "markdown",
      "source": [
        "## 1. Wczytanie zbioru danych oraz import potrzebnych bibliotek"
      ],
      "metadata": {
        "id": "GaeoEuOo6bKf"
      }
    },
    {
      "cell_type": "code",
      "execution_count": 4,
      "metadata": {
        "id": "zULbU_3S6OyD"
      },
      "outputs": [],
      "source": [
        "import pandas as pd\n",
        "pd.set_option('display.max_rows', 20)"
      ]
    },
    {
      "cell_type": "code",
      "source": [
        "dane = pd.read_csv('superheroes.csv')\n",
        "dane.head()"
      ],
      "metadata": {
        "colab": {
          "base_uri": "https://localhost:8080/",
          "height": 595
        },
        "id": "ZY11KLG_61Fw",
        "outputId": "49814a9f-53ac-4037-b73a-c43ce96ec2d2"
      },
      "execution_count": 5,
      "outputs": [
        {
          "output_type": "execute_result",
          "data": {
            "text/plain": [
              "            name               real_name               full_name  \\\n",
              "0        3-D Man     Delroy Garrett, Jr.     Delroy Garrett, Jr.   \n",
              "1  514A (Gotham)             Bruce Wayne                     NaN   \n",
              "2         A-Bomb  Richard Milhouse Jones  Richard Milhouse Jones   \n",
              "3             Aa                      Aa                     NaN   \n",
              "4     Aaron Cash              Aaron Cash              Aaron Cash   \n",
              "\n",
              "  overall_score                                       history_text  \\\n",
              "0             6  Delroy Garrett, Jr. grew up to become a track ...   \n",
              "1            10  He was one of the many prisoners of Indian Hil...   \n",
              "2            20   Richard \"Rick\" Jones was orphaned at a young ...   \n",
              "3            12  Aa is one of the more passive members of the P...   \n",
              "4             5  Aaron Cash is the head of security at Arkham A...   \n",
              "\n",
              "                                         powers_text  intelligence_score  \\\n",
              "0                                                NaN                  85   \n",
              "1                                                NaN                 100   \n",
              "2    On rare occasions, and through unusual circu...                  80   \n",
              "3                                                NaN                  80   \n",
              "4                                                NaN                  80   \n",
              "\n",
              "   strength_score  speed_score  durability_score  ...  has_flight  \\\n",
              "0              30           60                60  ...         0.0   \n",
              "1              20           30                50  ...         0.0   \n",
              "2             100           80               100  ...         0.0   \n",
              "3              50           55                45  ...         0.0   \n",
              "4              10           25                40  ...         0.0   \n",
              "\n",
              "   has_accelerated_healing has_weapons_master has_intelligence has_reflexes  \\\n",
              "0                      0.0                0.0              0.0          0.0   \n",
              "1                      0.0                0.0              0.0          1.0   \n",
              "2                      1.0                0.0              0.0          1.0   \n",
              "3                      0.0                0.0              0.0          0.0   \n",
              "4                      0.0                1.0              0.0          0.0   \n",
              "\n",
              "  has_super_speed has_durability has_stamina has_agility has_super_strength  \n",
              "0             1.0            0.0         0.0         0.0                1.0  \n",
              "1             0.0            1.0         0.0         0.0                1.0  \n",
              "2             1.0            1.0         1.0         1.0                1.0  \n",
              "3             0.0            0.0         0.0         0.0                0.0  \n",
              "4             0.0            0.0         0.0         0.0                0.0  \n",
              "\n",
              "[5 rows x 81 columns]"
            ],
            "text/html": [
              "\n",
              "  <div id=\"df-22d3d535-25ed-410e-afa7-a12364350fb8\">\n",
              "    <div class=\"colab-df-container\">\n",
              "      <div>\n",
              "<style scoped>\n",
              "    .dataframe tbody tr th:only-of-type {\n",
              "        vertical-align: middle;\n",
              "    }\n",
              "\n",
              "    .dataframe tbody tr th {\n",
              "        vertical-align: top;\n",
              "    }\n",
              "\n",
              "    .dataframe thead th {\n",
              "        text-align: right;\n",
              "    }\n",
              "</style>\n",
              "<table border=\"1\" class=\"dataframe\">\n",
              "  <thead>\n",
              "    <tr style=\"text-align: right;\">\n",
              "      <th></th>\n",
              "      <th>name</th>\n",
              "      <th>real_name</th>\n",
              "      <th>full_name</th>\n",
              "      <th>overall_score</th>\n",
              "      <th>history_text</th>\n",
              "      <th>powers_text</th>\n",
              "      <th>intelligence_score</th>\n",
              "      <th>strength_score</th>\n",
              "      <th>speed_score</th>\n",
              "      <th>durability_score</th>\n",
              "      <th>...</th>\n",
              "      <th>has_flight</th>\n",
              "      <th>has_accelerated_healing</th>\n",
              "      <th>has_weapons_master</th>\n",
              "      <th>has_intelligence</th>\n",
              "      <th>has_reflexes</th>\n",
              "      <th>has_super_speed</th>\n",
              "      <th>has_durability</th>\n",
              "      <th>has_stamina</th>\n",
              "      <th>has_agility</th>\n",
              "      <th>has_super_strength</th>\n",
              "    </tr>\n",
              "  </thead>\n",
              "  <tbody>\n",
              "    <tr>\n",
              "      <th>0</th>\n",
              "      <td>3-D Man</td>\n",
              "      <td>Delroy Garrett, Jr.</td>\n",
              "      <td>Delroy Garrett, Jr.</td>\n",
              "      <td>6</td>\n",
              "      <td>Delroy Garrett, Jr. grew up to become a track ...</td>\n",
              "      <td>NaN</td>\n",
              "      <td>85</td>\n",
              "      <td>30</td>\n",
              "      <td>60</td>\n",
              "      <td>60</td>\n",
              "      <td>...</td>\n",
              "      <td>0.0</td>\n",
              "      <td>0.0</td>\n",
              "      <td>0.0</td>\n",
              "      <td>0.0</td>\n",
              "      <td>0.0</td>\n",
              "      <td>1.0</td>\n",
              "      <td>0.0</td>\n",
              "      <td>0.0</td>\n",
              "      <td>0.0</td>\n",
              "      <td>1.0</td>\n",
              "    </tr>\n",
              "    <tr>\n",
              "      <th>1</th>\n",
              "      <td>514A (Gotham)</td>\n",
              "      <td>Bruce Wayne</td>\n",
              "      <td>NaN</td>\n",
              "      <td>10</td>\n",
              "      <td>He was one of the many prisoners of Indian Hil...</td>\n",
              "      <td>NaN</td>\n",
              "      <td>100</td>\n",
              "      <td>20</td>\n",
              "      <td>30</td>\n",
              "      <td>50</td>\n",
              "      <td>...</td>\n",
              "      <td>0.0</td>\n",
              "      <td>0.0</td>\n",
              "      <td>0.0</td>\n",
              "      <td>0.0</td>\n",
              "      <td>1.0</td>\n",
              "      <td>0.0</td>\n",
              "      <td>1.0</td>\n",
              "      <td>0.0</td>\n",
              "      <td>0.0</td>\n",
              "      <td>1.0</td>\n",
              "    </tr>\n",
              "    <tr>\n",
              "      <th>2</th>\n",
              "      <td>A-Bomb</td>\n",
              "      <td>Richard Milhouse Jones</td>\n",
              "      <td>Richard Milhouse Jones</td>\n",
              "      <td>20</td>\n",
              "      <td>Richard \"Rick\" Jones was orphaned at a young ...</td>\n",
              "      <td>On rare occasions, and through unusual circu...</td>\n",
              "      <td>80</td>\n",
              "      <td>100</td>\n",
              "      <td>80</td>\n",
              "      <td>100</td>\n",
              "      <td>...</td>\n",
              "      <td>0.0</td>\n",
              "      <td>1.0</td>\n",
              "      <td>0.0</td>\n",
              "      <td>0.0</td>\n",
              "      <td>1.0</td>\n",
              "      <td>1.0</td>\n",
              "      <td>1.0</td>\n",
              "      <td>1.0</td>\n",
              "      <td>1.0</td>\n",
              "      <td>1.0</td>\n",
              "    </tr>\n",
              "    <tr>\n",
              "      <th>3</th>\n",
              "      <td>Aa</td>\n",
              "      <td>Aa</td>\n",
              "      <td>NaN</td>\n",
              "      <td>12</td>\n",
              "      <td>Aa is one of the more passive members of the P...</td>\n",
              "      <td>NaN</td>\n",
              "      <td>80</td>\n",
              "      <td>50</td>\n",
              "      <td>55</td>\n",
              "      <td>45</td>\n",
              "      <td>...</td>\n",
              "      <td>0.0</td>\n",
              "      <td>0.0</td>\n",
              "      <td>0.0</td>\n",
              "      <td>0.0</td>\n",
              "      <td>0.0</td>\n",
              "      <td>0.0</td>\n",
              "      <td>0.0</td>\n",
              "      <td>0.0</td>\n",
              "      <td>0.0</td>\n",
              "      <td>0.0</td>\n",
              "    </tr>\n",
              "    <tr>\n",
              "      <th>4</th>\n",
              "      <td>Aaron Cash</td>\n",
              "      <td>Aaron Cash</td>\n",
              "      <td>Aaron Cash</td>\n",
              "      <td>5</td>\n",
              "      <td>Aaron Cash is the head of security at Arkham A...</td>\n",
              "      <td>NaN</td>\n",
              "      <td>80</td>\n",
              "      <td>10</td>\n",
              "      <td>25</td>\n",
              "      <td>40</td>\n",
              "      <td>...</td>\n",
              "      <td>0.0</td>\n",
              "      <td>0.0</td>\n",
              "      <td>1.0</td>\n",
              "      <td>0.0</td>\n",
              "      <td>0.0</td>\n",
              "      <td>0.0</td>\n",
              "      <td>0.0</td>\n",
              "      <td>0.0</td>\n",
              "      <td>0.0</td>\n",
              "      <td>0.0</td>\n",
              "    </tr>\n",
              "  </tbody>\n",
              "</table>\n",
              "<p>5 rows × 81 columns</p>\n",
              "</div>\n",
              "      <button class=\"colab-df-convert\" onclick=\"convertToInteractive('df-22d3d535-25ed-410e-afa7-a12364350fb8')\"\n",
              "              title=\"Convert this dataframe to an interactive table.\"\n",
              "              style=\"display:none;\">\n",
              "        \n",
              "  <svg xmlns=\"http://www.w3.org/2000/svg\" height=\"24px\"viewBox=\"0 0 24 24\"\n",
              "       width=\"24px\">\n",
              "    <path d=\"M0 0h24v24H0V0z\" fill=\"none\"/>\n",
              "    <path d=\"M18.56 5.44l.94 2.06.94-2.06 2.06-.94-2.06-.94-.94-2.06-.94 2.06-2.06.94zm-11 1L8.5 8.5l.94-2.06 2.06-.94-2.06-.94L8.5 2.5l-.94 2.06-2.06.94zm10 10l.94 2.06.94-2.06 2.06-.94-2.06-.94-.94-2.06-.94 2.06-2.06.94z\"/><path d=\"M17.41 7.96l-1.37-1.37c-.4-.4-.92-.59-1.43-.59-.52 0-1.04.2-1.43.59L10.3 9.45l-7.72 7.72c-.78.78-.78 2.05 0 2.83L4 21.41c.39.39.9.59 1.41.59.51 0 1.02-.2 1.41-.59l7.78-7.78 2.81-2.81c.8-.78.8-2.07 0-2.86zM5.41 20L4 18.59l7.72-7.72 1.47 1.35L5.41 20z\"/>\n",
              "  </svg>\n",
              "      </button>\n",
              "      \n",
              "  <style>\n",
              "    .colab-df-container {\n",
              "      display:flex;\n",
              "      flex-wrap:wrap;\n",
              "      gap: 12px;\n",
              "    }\n",
              "\n",
              "    .colab-df-convert {\n",
              "      background-color: #E8F0FE;\n",
              "      border: none;\n",
              "      border-radius: 50%;\n",
              "      cursor: pointer;\n",
              "      display: none;\n",
              "      fill: #1967D2;\n",
              "      height: 32px;\n",
              "      padding: 0 0 0 0;\n",
              "      width: 32px;\n",
              "    }\n",
              "\n",
              "    .colab-df-convert:hover {\n",
              "      background-color: #E2EBFA;\n",
              "      box-shadow: 0px 1px 2px rgba(60, 64, 67, 0.3), 0px 1px 3px 1px rgba(60, 64, 67, 0.15);\n",
              "      fill: #174EA6;\n",
              "    }\n",
              "\n",
              "    [theme=dark] .colab-df-convert {\n",
              "      background-color: #3B4455;\n",
              "      fill: #D2E3FC;\n",
              "    }\n",
              "\n",
              "    [theme=dark] .colab-df-convert:hover {\n",
              "      background-color: #434B5C;\n",
              "      box-shadow: 0px 1px 3px 1px rgba(0, 0, 0, 0.15);\n",
              "      filter: drop-shadow(0px 1px 2px rgba(0, 0, 0, 0.3));\n",
              "      fill: #FFFFFF;\n",
              "    }\n",
              "  </style>\n",
              "\n",
              "      <script>\n",
              "        const buttonEl =\n",
              "          document.querySelector('#df-22d3d535-25ed-410e-afa7-a12364350fb8 button.colab-df-convert');\n",
              "        buttonEl.style.display =\n",
              "          google.colab.kernel.accessAllowed ? 'block' : 'none';\n",
              "\n",
              "        async function convertToInteractive(key) {\n",
              "          const element = document.querySelector('#df-22d3d535-25ed-410e-afa7-a12364350fb8');\n",
              "          const dataTable =\n",
              "            await google.colab.kernel.invokeFunction('convertToInteractive',\n",
              "                                                     [key], {});\n",
              "          if (!dataTable) return;\n",
              "\n",
              "          const docLinkHtml = 'Like what you see? Visit the ' +\n",
              "            '<a target=\"_blank\" href=https://colab.research.google.com/notebooks/data_table.ipynb>data table notebook</a>'\n",
              "            + ' to learn more about interactive tables.';\n",
              "          element.innerHTML = '';\n",
              "          dataTable['output_type'] = 'display_data';\n",
              "          await google.colab.output.renderOutput(dataTable, element);\n",
              "          const docLink = document.createElement('div');\n",
              "          docLink.innerHTML = docLinkHtml;\n",
              "          element.appendChild(docLink);\n",
              "        }\n",
              "      </script>\n",
              "    </div>\n",
              "  </div>\n",
              "  "
            ]
          },
          "metadata": {},
          "execution_count": 5
        }
      ]
    },
    {
      "cell_type": "markdown",
      "source": [
        "Tabela z danymi posiada 1450 rekordów i 81 zmiennych, zarówno tekstowych jak i liczbowych."
      ],
      "metadata": {
        "id": "dimzscj57ehJ"
      }
    },
    {
      "cell_type": "code",
      "source": [
        "dane.shape"
      ],
      "metadata": {
        "colab": {
          "base_uri": "https://localhost:8080/"
        },
        "id": "27NS64vO7cQk",
        "outputId": "be7960ea-eccd-4a9c-c50e-f40f10d1562f"
      },
      "execution_count": 6,
      "outputs": [
        {
          "output_type": "execute_result",
          "data": {
            "text/plain": [
              "(1450, 81)"
            ]
          },
          "metadata": {},
          "execution_count": 6
        }
      ]
    },
    {
      "cell_type": "code",
      "source": [
        "print(\"Nazwy kolumn:\")\n",
        "print(dane.columns)"
      ],
      "metadata": {
        "colab": {
          "base_uri": "https://localhost:8080/"
        },
        "id": "G8MHZVzd64U5",
        "outputId": "3263eeb9-cc9c-4334-f181-621bfebbab1e"
      },
      "execution_count": 7,
      "outputs": [
        {
          "output_type": "stream",
          "name": "stdout",
          "text": [
            "Nazwy kolumn:\n",
            "Index(['name', 'real_name', 'full_name', 'overall_score', 'history_text',\n",
            "       'powers_text', 'intelligence_score', 'strength_score', 'speed_score',\n",
            "       'durability_score', 'power_score', 'combat_score', 'superpowers',\n",
            "       'alter_egos', 'aliases', 'place_of_birth', 'first_appearance',\n",
            "       'creator', 'alignment', 'occupation', 'base', 'teams', 'relatives',\n",
            "       'gender', 'type_race', 'height', 'weight', 'eye_color', 'hair_color',\n",
            "       'skin_color', 'img', 'has_electrokinesis', 'has_energy_constructs',\n",
            "       'has_mind_control_resistance', 'has_matter_manipulation',\n",
            "       'has_telepathy_resistance', 'has_mind_control', 'has_enhanced_hearing',\n",
            "       'has_dimensional_travel', 'has_element_control', 'has_size_changing',\n",
            "       'has_fire_resistance', 'has_fire_control', 'has_dexterity',\n",
            "       'has_reality_warping', 'has_illusions', 'has_energy_beams',\n",
            "       'has_peak_human_condition', 'has_shapeshifting', 'has_heat_resistance',\n",
            "       'has_jump', 'has_self-sustenance', 'has_energy_absorption',\n",
            "       'has_cold_resistance', 'has_magic', 'has_telekinesis',\n",
            "       'has_toxin_and_disease_resistance', 'has_telepathy', 'has_regeneration',\n",
            "       'has_immortality', 'has_teleportation', 'has_force_fields',\n",
            "       'has_energy_manipulation', 'has_endurance', 'has_longevity',\n",
            "       'has_weapon-based_powers', 'has_energy_blasts', 'has_enhanced_senses',\n",
            "       'has_invulnerability', 'has_stealth', 'has_marksmanship', 'has_flight',\n",
            "       'has_accelerated_healing', 'has_weapons_master', 'has_intelligence',\n",
            "       'has_reflexes', 'has_super_speed', 'has_durability', 'has_stamina',\n",
            "       'has_agility', 'has_super_strength'],\n",
            "      dtype='object')\n"
          ]
        }
      ]
    },
    {
      "cell_type": "markdown",
      "source": [
        "Przekształcenie zmiennej celu *creator*, aby skategoryzować ją na 3 następujące kategorie Marvel Comics, DC Comics lub inne wydawnictwo. "
      ],
      "metadata": {
        "id": "R79yN5kX7Hzi"
      }
    },
    {
      "cell_type": "code",
      "source": [
        "dane['creator'].value_counts()"
      ],
      "metadata": {
        "colab": {
          "base_uri": "https://localhost:8080/"
        },
        "id": "PyY6BO167AiO",
        "outputId": "341c12d0-a76e-4a32-9d06-ad5ef69f8688"
      },
      "execution_count": 8,
      "outputs": [
        {
          "output_type": "execute_result",
          "data": {
            "text/plain": [
              "Marvel Comics             615\n",
              "DC Comics                 444\n",
              "Shueisha                   37\n",
              "Dark Horse Comics          29\n",
              "Lego                       22\n",
              "                         ... \n",
              "Stephen King                1\n",
              "Konami                      1\n",
              "Blizzard Entertainment      1\n",
              "South Park                  1\n",
              "Matt Groening               1\n",
              "Name: creator, Length: 41, dtype: int64"
            ]
          },
          "metadata": {},
          "execution_count": 8
        }
      ]
    },
    {
      "cell_type": "markdown",
      "source": [
        "Rekodujemy zmienną celu, aby miała odpowiedenie kategorie."
      ],
      "metadata": {
        "id": "2YhDzltc0hxS"
      }
    },
    {
      "cell_type": "code",
      "source": [
        "wydawnictwo = [x if x=='Marvel Comics' else (x if x=='DC Comics' else'Inne wydawnictwo') for x in dane['creator']]"
      ],
      "metadata": {
        "id": "mBaOsJB77Gqf"
      },
      "execution_count": 9,
      "outputs": []
    },
    {
      "cell_type": "code",
      "source": [
        "dane['wydawnictwo'] = wydawnictwo\n",
        "dane['wydawnictwo'].value_counts()"
      ],
      "metadata": {
        "colab": {
          "base_uri": "https://localhost:8080/"
        },
        "id": "Fyisf38P7bWL",
        "outputId": "f9b70b70-956b-49fc-c496-f7fa2834e61e"
      },
      "execution_count": 10,
      "outputs": [
        {
          "output_type": "execute_result",
          "data": {
            "text/plain": [
              "Marvel Comics       615\n",
              "DC Comics           444\n",
              "Inne wydawnictwo    391\n",
              "Name: wydawnictwo, dtype: int64"
            ]
          },
          "metadata": {},
          "execution_count": 10
        }
      ]
    },
    {
      "cell_type": "markdown",
      "source": [
        "Musimy napisać funckję, która łączy dwie kolumny tesktowe w jedną, w tym wypadku *history_text* oraz *power_text*."
      ],
      "metadata": {
        "id": "2Z_iXV4Q75eS"
      }
    },
    {
      "cell_type": "code",
      "source": [
        "def marge_cols(df, col1, col2, col3='wydawnictwo'):\n",
        "  result = []\n",
        "  y = []\n",
        "  for i in range(len(df)):\n",
        "    if str(df[col1][i])!='nan' and str(df[col2][i])!='nan':\n",
        "      result.append(str(df[col1][i])+' '+str(df[col2][i]))\n",
        "      y.append(str(df[col3][i]))\n",
        "  return pd.DataFrame(result, columns=['text_to_classification']), pd.Series(y)"
      ],
      "metadata": {
        "id": "HABCwib27qw3"
      },
      "execution_count": 11,
      "outputs": []
    },
    {
      "cell_type": "markdown",
      "source": [
        "Tworzymy nasz zbiór danych *X* oraz *y*."
      ],
      "metadata": {
        "id": "TGNWO1Fk8JAT"
      }
    },
    {
      "cell_type": "code",
      "source": [
        "X,y=marge_cols(dane,'history_text', 'powers_text', 'wydawnictwo')"
      ],
      "metadata": {
        "id": "KNlpdz368Gnt"
      },
      "execution_count": 12,
      "outputs": []
    },
    {
      "cell_type": "markdown",
      "source": [
        "Podzielimy dane na zbiór uczący i testowy (w proporcjach 70% - 30%). O odpowiednią reprezentację wszystkich klas w obu zbiorach zadbamy poprzez wykorzystanie parametru *stratify=y*, tzn. zbiory uczący i testowy będą miały strukturę *y*."
      ],
      "metadata": {
        "id": "p64_a1UA8TkC"
      }
    },
    {
      "cell_type": "code",
      "source": [
        "from sklearn.model_selection import train_test_split\n",
        "x_train, x_test, y_train, y_test = train_test_split(X, y,\n",
        "                                                    test_size=0.30,\n",
        "                                                    random_state=0,\n",
        "                                                    stratify=y)"
      ],
      "metadata": {
        "id": "8wIRgzY28RO_"
      },
      "execution_count": 13,
      "outputs": []
    },
    {
      "cell_type": "markdown",
      "source": [
        "Sprawdźmy czy rzeczywiście dane odpowiednio się podzieliły."
      ],
      "metadata": {
        "id": "oymoujd98stZ"
      }
    },
    {
      "cell_type": "code",
      "source": [
        "y.value_counts()"
      ],
      "metadata": {
        "colab": {
          "base_uri": "https://localhost:8080/"
        },
        "id": "GLeCZ93t8odc",
        "outputId": "57570d8c-dbea-4f97-9242-64b6874d8d2c"
      },
      "execution_count": 14,
      "outputs": [
        {
          "output_type": "execute_result",
          "data": {
            "text/plain": [
              "Marvel Comics       475\n",
              "DC Comics           285\n",
              "Inne wydawnictwo    236\n",
              "dtype: int64"
            ]
          },
          "metadata": {},
          "execution_count": 14
        }
      ]
    },
    {
      "cell_type": "code",
      "source": [
        "y_train.value_counts()"
      ],
      "metadata": {
        "colab": {
          "base_uri": "https://localhost:8080/"
        },
        "id": "wgnoNq-E8qtR",
        "outputId": "73f2f1ac-b217-4b9e-e515-f1355aa412b3"
      },
      "execution_count": 15,
      "outputs": [
        {
          "output_type": "execute_result",
          "data": {
            "text/plain": [
              "Marvel Comics       332\n",
              "DC Comics           200\n",
              "Inne wydawnictwo    165\n",
              "dtype: int64"
            ]
          },
          "metadata": {},
          "execution_count": 15
        }
      ]
    },
    {
      "cell_type": "code",
      "source": [
        "y_test.value_counts()"
      ],
      "metadata": {
        "colab": {
          "base_uri": "https://localhost:8080/"
        },
        "id": "PPjnIM-88rPq",
        "outputId": "0419297a-5399-49af-ffa2-9e0a89e37546"
      },
      "execution_count": 16,
      "outputs": [
        {
          "output_type": "execute_result",
          "data": {
            "text/plain": [
              "Marvel Comics       143\n",
              "DC Comics            85\n",
              "Inne wydawnictwo     71\n",
              "dtype: int64"
            ]
          },
          "metadata": {},
          "execution_count": 16
        }
      ]
    },
    {
      "cell_type": "code",
      "source": [
        "y_train.to_csv('y_train.csv', sep=';')\n",
        "y_test.to_csv('y_test.csv', sep = ';')"
      ],
      "metadata": {
        "id": "udYdNN2UOb_q"
      },
      "execution_count": 17,
      "outputs": []
    },
    {
      "cell_type": "markdown",
      "source": [
        "Widzimy, że dane zostały rozdzielone w odpowiednich proporcjach."
      ],
      "metadata": {
        "id": "kos8cjKd8zuJ"
      }
    },
    {
      "cell_type": "markdown",
      "source": [
        "## 2. Strukturyzacja danych"
      ],
      "metadata": {
        "id": "ws6oblK2874b"
      }
    },
    {
      "cell_type": "markdown",
      "source": [
        "Dane zostaną przekształcone do postaci macierzy tf-idf. Przed przekształcaniem teksty zostaną zamienione na małe litery, stworzymy z tekstów listy tokenów, usuniemy z nich numery i znaki interpunkcyjne. Tokeny zostaną zlematyzowane, usunięte zostaną angielskie stop-words. Dodatkowo zostały usunięte słowa, które zawierały inne znaki niż ascii."
      ],
      "metadata": {
        "id": "Ck5aZ8OZ89vM"
      }
    },
    {
      "cell_type": "code",
      "source": [
        "import nltk\n",
        "from nltk.corpus import stopwords\n",
        "import re\n",
        "from nltk.stem import WordNetLemmatizer \n",
        "from sklearn.pipeline import Pipeline\n",
        "from sklearn.feature_extraction.text import CountVectorizer \n",
        "from sklearn.feature_extraction.text import TfidfTransformer\n",
        "\n",
        "nltk.download('stopwords')\n",
        "nltk.download('punkt')\n",
        "nltk.download('wordnet')"
      ],
      "metadata": {
        "colab": {
          "base_uri": "https://localhost:8080/"
        },
        "id": "THHIb6RT8yvC",
        "outputId": "22fc4fad-94dd-4822-bfd2-79de5731e446"
      },
      "execution_count": 18,
      "outputs": [
        {
          "output_type": "stream",
          "name": "stdout",
          "text": [
            "[nltk_data] Downloading package stopwords to /root/nltk_data...\n",
            "[nltk_data]   Package stopwords is already up-to-date!\n",
            "[nltk_data] Downloading package punkt to /root/nltk_data...\n",
            "[nltk_data]   Package punkt is already up-to-date!\n",
            "[nltk_data] Downloading package wordnet to /root/nltk_data...\n",
            "[nltk_data]   Package wordnet is already up-to-date!\n"
          ]
        },
        {
          "output_type": "execute_result",
          "data": {
            "text/plain": [
              "True"
            ]
          },
          "metadata": {},
          "execution_count": 18
        }
      ]
    },
    {
      "cell_type": "code",
      "source": [
        "def to_lower(text):\n",
        " \n",
        "        return text.lower() \n",
        "\n",
        "def remove_numbers(text):\n",
        "   \n",
        "        output = ''.join(c for c in text if not c.isdigit())\n",
        "        return output \n",
        "\n",
        "def remove_punct(text):\n",
        "        punctuation_marks = [',', '.', '?', '!', '#', '*', ':', ';', '”', '“', \"’\", \"’\"]\n",
        "        return ''.join(c for c in text if c not in punctuation_marks) \n",
        "\n",
        "def lemmatize(text):\n",
        "    \n",
        "        wordnet_lemmatizer = WordNetLemmatizer()\n",
        "\n",
        "        lemmatized_word = [wordnet_lemmatizer.lemmatize(word)for word in nltk.word_tokenize(text)]\n",
        "        return \" \".join(lemmatized_word) \n",
        "\n",
        "def word_tokenize(text):\n",
        "    \n",
        "        return nltk.word_tokenize(text)"
      ],
      "metadata": {
        "id": "h7xH2eLR9Gf5"
      },
      "execution_count": 19,
      "outputs": []
    },
    {
      "cell_type": "code",
      "source": [
        "def preprocess(text):\n",
        "        stop_words = stopwords.words('english')\n",
        "        lower_text = to_lower(text)\n",
        "        word_tokens = word_tokenize(lower_text)\n",
        "        word_list = []\n",
        "        for each_sent in word_tokens:\n",
        "            lemmatizzed_sent = lemmatize(each_sent)\n",
        "            clean_text = remove_numbers(lemmatizzed_sent)\n",
        "            clean_text = remove_punct(clean_text)\n",
        "            if clean_text not in stop_words and  len(clean_text)>2 and clean_text.isascii():\n",
        "                 word_list.append(clean_text)\n",
        "        return word_list"
      ],
      "metadata": {
        "id": "NRQ6Wt759KIZ"
      },
      "execution_count": 20,
      "outputs": []
    },
    {
      "cell_type": "code",
      "source": [
        "X_train = x_train.text_to_classification.apply(preprocess)"
      ],
      "metadata": {
        "id": "Qh0Zvtpi95Ly"
      },
      "execution_count": 21,
      "outputs": []
    },
    {
      "cell_type": "code",
      "source": [
        "X_train"
      ],
      "metadata": {
        "colab": {
          "base_uri": "https://localhost:8080/"
        },
        "id": "5zw2vwCh-fql",
        "outputId": "78243145-00e4-4414-9add-50ce59fad56c"
      },
      "execution_count": 22,
      "outputs": [
        {
          "output_type": "execute_result",
          "data": {
            "text/plain": [
              "834    [melissa, gold, child, mother, sent, prison, r...\n",
              "277    [early, doctor, charles, mcnider, nurse/assist...\n",
              "15     [melinda, may, born, william, intelligence, op...\n",
              "927    [little, known, childhood, suzy, sherman, apar...\n",
              "177    [george, digger, harkness, raised, poverty, au...\n",
              "                             ...                        \n",
              "723    [man, used, test, subject, norman, osborn, yea...\n",
              "671    [born, daniel, dreiberg, relied, upon, technic...\n",
              "464    [doctor, jane, foster, one, world, leading, as...\n",
              "833    [solomon, kane, raised, puritan, heresy, activ...\n",
              "93     [bruce, wayne, son, wealthy, socialite, thomas...\n",
              "Name: text_to_classification, Length: 697, dtype: object"
            ]
          },
          "metadata": {},
          "execution_count": 22
        }
      ]
    },
    {
      "cell_type": "code",
      "source": [
        "X_test = x_test.text_to_classification.apply(preprocess)"
      ],
      "metadata": {
        "id": "4elLxeg_95nF"
      },
      "execution_count": 23,
      "outputs": []
    },
    {
      "cell_type": "code",
      "source": [
        "X_test"
      ],
      "metadata": {
        "colab": {
          "base_uri": "https://localhost:8080/"
        },
        "id": "anc5ryWa-hTD",
        "outputId": "d6d7ce2e-e09d-41e4-97be-b926c1f6738a"
      },
      "execution_count": 24,
      "outputs": [
        {
          "output_type": "execute_result",
          "data": {
            "text/plain": [
              "849    [carol, ferris, bos, occasional, love, interes...\n",
              "471    [jesse, chamber, daughter, golden, age, johnny...\n",
              "11     [bob, agent, hydra, sidekick, deadpool, coward...\n",
              "195    [early, year, like, elder, universe, champion,...\n",
              "644    [jamie, madrox, mutant, ability, apparent, bir...\n",
              "                             ...                        \n",
              "30     [originally, built, power, skill, original, ju...\n",
              "398    [described, genius-level, harleen, attended, g...\n",
              "597    [medusalith, medusa, amaquelin, wife, black, b...\n",
              "494    [universe, selecting, team, kale, one, foe, an...\n",
              "336    [ronnie, raymond, engaged, caitlin, snow, nigh...\n",
              "Name: text_to_classification, Length: 299, dtype: object"
            ]
          },
          "metadata": {},
          "execution_count": 24
        }
      ]
    },
    {
      "cell_type": "markdown",
      "source": [
        "Przygotowany tekst, który aktualnie jest listą słow dla każdego rekordu, zostanie zamieniony na macierz tf-idf."
      ],
      "metadata": {
        "id": "tCYByJmI-VS_"
      }
    },
    {
      "cell_type": "code",
      "source": [
        "from sklearn.feature_extraction.text import TfidfVectorizer\n",
        "vectorizer_tfidf = TfidfVectorizer()\n",
        "\n",
        "X_train_tfidf = vectorizer_tfidf.fit_transform(X_train.astype(str))\n",
        "X_test_tfidf = vectorizer_tfidf.transform(X_test.astype(str))"
      ],
      "metadata": {
        "id": "-taNBa3T99Ep"
      },
      "execution_count": 25,
      "outputs": []
    },
    {
      "cell_type": "markdown",
      "source": [
        "Po takim przygotowaniu macierz dla zbioru uczącego ma 697 wierszy i 22877 kolumn, a macierz dla zbioru testowego ma odpowiednio mniej, bo 299 wieszy i tyle samo kolumn. "
      ],
      "metadata": {
        "id": "Cqbaj8hN-Tmp"
      }
    },
    {
      "cell_type": "code",
      "source": [
        "X_train_tfidf.shape, X_test_tfidf.shape"
      ],
      "metadata": {
        "colab": {
          "base_uri": "https://localhost:8080/"
        },
        "id": "3bLuw5td-KFZ",
        "outputId": "96ea27ea-22d2-42c0-b9b8-e5c37d37589d"
      },
      "execution_count": 26,
      "outputs": [
        {
          "output_type": "execute_result",
          "data": {
            "text/plain": [
              "((697, 22755), (299, 22755))"
            ]
          },
          "metadata": {},
          "execution_count": 26
        }
      ]
    },
    {
      "cell_type": "code",
      "source": [
        "X_train_tfidf = X_train_tfidf.toarray()\n",
        "X_test_tfidf = X_test_tfidf.toarray()"
      ],
      "metadata": {
        "id": "i3HzAJwI-NPX"
      },
      "execution_count": 27,
      "outputs": []
    },
    {
      "cell_type": "markdown",
      "source": [
        " 22755 to całkowita długość słownika korpusu uczącego. Oznacza to, że w korpusie uczącym znajduje się 22755 unikalnych słów/ciągów znaków."
      ],
      "metadata": {
        "id": "cPp4PWnpYVis"
      }
    },
    {
      "cell_type": "code",
      "source": [
        "len(vectorizer_tfidf.vocabulary_)"
      ],
      "metadata": {
        "colab": {
          "base_uri": "https://localhost:8080/"
        },
        "id": "V4G_fdazYUZ1",
        "outputId": "74352d71-d263-4279-8ab0-c49dbc42ccae"
      },
      "execution_count": 28,
      "outputs": [
        {
          "output_type": "execute_result",
          "data": {
            "text/plain": [
              "22755"
            ]
          },
          "metadata": {},
          "execution_count": 28
        }
      ]
    },
    {
      "cell_type": "code",
      "source": [
        "vectorizer_tfidf.vocabulary_"
      ],
      "metadata": {
        "id": "wAUbT-_XXnxI"
      },
      "execution_count": null,
      "outputs": []
    },
    {
      "cell_type": "code",
      "source": [
        "y_train.value_counts()"
      ],
      "metadata": {
        "colab": {
          "base_uri": "https://localhost:8080/"
        },
        "id": "hKbkIc7agyXX",
        "outputId": "c16ded80-4bc7-4d3c-e75a-b4ef4e83f727"
      },
      "execution_count": 76,
      "outputs": [
        {
          "output_type": "execute_result",
          "data": {
            "text/plain": [
              "Marvel Comics       332\n",
              "DC Comics           200\n",
              "Inne wydawnictwo    165\n",
              "dtype: int64"
            ]
          },
          "metadata": {},
          "execution_count": 76
        }
      ]
    },
    {
      "cell_type": "code",
      "source": [
        "X_train = pd.DataFrame(X_train_tfidf).set_index(y_train)"
      ],
      "metadata": {
        "id": "G22p8T8SZ9l1"
      },
      "execution_count": 31,
      "outputs": []
    },
    {
      "cell_type": "markdown",
      "source": [
        "Aby ułatwić zapisałam powstałe macierze, ponieważ sam preprocessing zabiera sporo czasu. Macierze te dostępne są w załącznikach."
      ],
      "metadata": {
        "id": "OxwpeEom-3iJ"
      }
    },
    {
      "cell_type": "code",
      "source": [
        "pd.DataFrame(X_train_tfidf).to_csv(\"X_train_tfidf.csv\", sep=';')\n",
        "pd.DataFrame(X_test_tfidf).to_csv(\"X_test_tfidf.csv\", sep=';')"
      ],
      "metadata": {
        "id": "73ivYAIA-PGf"
      },
      "execution_count": 36,
      "outputs": []
    },
    {
      "cell_type": "markdown",
      "source": [
        "## 3. Naiwny klasyfikator Bayesa"
      ],
      "metadata": {
        "id": "IiiaoSsM_Kc6"
      }
    },
    {
      "cell_type": "markdown",
      "source": [
        "Pierwszym sprawdzonym modelem będzie naiwny klasyfikator Bayesa. Modelu możemy używać wprost, nie ma potrzeby tuningowania parametrów."
      ],
      "metadata": {
        "id": "KSrkGtxP7AZC"
      }
    },
    {
      "cell_type": "code",
      "source": [
        "from sklearn.naive_bayes import GaussianNB\n",
        "gnb_clf = GaussianNB()\n",
        "gnb_clf.fit(X_train_tfidf, y_train)"
      ],
      "metadata": {
        "colab": {
          "base_uri": "https://localhost:8080/"
        },
        "id": "Le5Q9-Yt_sS9",
        "outputId": "80c5d685-5199-4c80-afd2-bd8df2d6bfe7"
      },
      "execution_count": 37,
      "outputs": [
        {
          "output_type": "execute_result",
          "data": {
            "text/plain": [
              "GaussianNB()"
            ]
          },
          "metadata": {},
          "execution_count": 37
        }
      ]
    },
    {
      "cell_type": "code",
      "source": [
        "gnb_clf.score(X_train_tfidf, y_train), gnb_clf.score(X_test_tfidf, y_test)"
      ],
      "metadata": {
        "colab": {
          "base_uri": "https://localhost:8080/"
        },
        "id": "QbtKidbM_vCB",
        "outputId": "ea560570-ec1a-498e-a42a-0ec643827b68"
      },
      "execution_count": 38,
      "outputs": [
        {
          "output_type": "execute_result",
          "data": {
            "text/plain": [
              "(1.0, 0.8795986622073578)"
            ]
          },
          "metadata": {},
          "execution_count": 38
        }
      ]
    },
    {
      "cell_type": "code",
      "source": [
        "from sklearn.metrics import classification_report\n",
        "y_pred_gnb_test= gnb_clf.predict(X_test_tfidf)\n",
        "print(classification_report(y_test,y_pred_gnb_test)) "
      ],
      "metadata": {
        "colab": {
          "base_uri": "https://localhost:8080/"
        },
        "id": "AzPIVr09_2oi",
        "outputId": "8428511d-e893-46a7-a029-21d6c71ec65b"
      },
      "execution_count": 39,
      "outputs": [
        {
          "output_type": "stream",
          "name": "stdout",
          "text": [
            "                  precision    recall  f1-score   support\n",
            "\n",
            "       DC Comics       0.88      0.93      0.90        85\n",
            "Inne wydawnictwo       0.90      0.65      0.75        71\n",
            "   Marvel Comics       0.87      0.97      0.92       143\n",
            "\n",
            "        accuracy                           0.88       299\n",
            "       macro avg       0.88      0.85      0.86       299\n",
            "    weighted avg       0.88      0.88      0.87       299\n",
            "\n"
          ]
        }
      ]
    },
    {
      "cell_type": "markdown",
      "source": [
        "Trafność zarówno na zbiorze uczącym jak i testowym jest bardzo dobra, na zbiorze uczącym nie było ani jednej pomyłki. Na zbiorze testowym jest ona na poziomie 88%. Po miarze $F1-score$ liczonej dla każdej z grup zbioru testowego obserwujemy, że dla jedynie dla grupy *Inne wydawnictwo* model poradził sobie nieco gorzej przy predykcji dla zbioru testowego, Można próbować uzasadnić to tym, że grupa ta zawiera wiele bardzo różnych wydawnictw, i te różnice mogą zaburzać predykcyjność modelu.  "
      ],
      "metadata": {
        "id": "GkpjMzTO5tey"
      }
    },
    {
      "cell_type": "markdown",
      "source": [
        ""
      ],
      "metadata": {
        "id": "bsbILaY2RSnN"
      }
    },
    {
      "cell_type": "markdown",
      "source": [
        "### Naiwny klasyfikator Bayesa - wielomianowy"
      ],
      "metadata": {
        "id": "iOZw0tU8RWm9"
      }
    },
    {
      "cell_type": "code",
      "source": [
        "from sklearn.naive_bayes import MultinomialNB\n",
        "mnb_clf = MultinomialNB()\n",
        "mnb_clf.fit(X_train_tfidf, y_train)"
      ],
      "metadata": {
        "colab": {
          "base_uri": "https://localhost:8080/"
        },
        "id": "g5VwJDSuRAcZ",
        "outputId": "9d24192c-907a-49c6-ad57-f4f420492261"
      },
      "execution_count": 67,
      "outputs": [
        {
          "output_type": "execute_result",
          "data": {
            "text/plain": [
              "MultinomialNB()"
            ]
          },
          "metadata": {},
          "execution_count": 67
        }
      ]
    },
    {
      "cell_type": "code",
      "source": [
        "mnb_clf.score(X_train_tfidf, y_train), mnb_clf.score(X_test_tfidf, y_test)"
      ],
      "metadata": {
        "colab": {
          "base_uri": "https://localhost:8080/"
        },
        "id": "bbgyl8NfRR4E",
        "outputId": "070fcb10-3550-4521-b42e-e948d4ccbd20"
      },
      "execution_count": 68,
      "outputs": [
        {
          "output_type": "execute_result",
          "data": {
            "text/plain": [
              "(0.793400286944046, 0.6086956521739131)"
            ]
          },
          "metadata": {},
          "execution_count": 68
        }
      ]
    },
    {
      "cell_type": "code",
      "source": [
        "y_pred_mnb_test= mnb_clf.predict(X_test_tfidf)\n",
        "print(classification_report(y_test,y_pred_mnb_test)) "
      ],
      "metadata": {
        "colab": {
          "base_uri": "https://localhost:8080/"
        },
        "id": "GYenK_F6Rfwc",
        "outputId": "6c7f3cb3-8c4e-4a27-83d9-dacce80a58d6"
      },
      "execution_count": 69,
      "outputs": [
        {
          "output_type": "stream",
          "name": "stdout",
          "text": [
            "                  precision    recall  f1-score   support\n",
            "\n",
            "       DC Comics       0.97      0.33      0.49        85\n",
            "Inne wydawnictwo       0.92      0.17      0.29        71\n",
            "   Marvel Comics       0.55      0.99      0.71       143\n",
            "\n",
            "        accuracy                           0.61       299\n",
            "       macro avg       0.81      0.50      0.50       299\n",
            "    weighted avg       0.76      0.61      0.55       299\n",
            "\n"
          ]
        }
      ]
    },
    {
      "cell_type": "markdown",
      "source": [
        "MultinomialNB pozwala na wyciągnięcie słów, które mają największy wpływ na zaklasyfikowanie postaci do danego wydawnictwa. Dlatego też został użyty tyklo w tym celu. Nie będziemy rysować dla niego krzywych ROC, ponieważ, wyniki tego modelu nie są rewelacyjne, już na zbiorze uczącym trafność jest niższa niż 80%, a na testowym 61%. Bardzo słabo poradził sobie z klasyfikacją dla kategorii *Inne wydawnictwo*, $f-1=0.29$. Dla kategorii *Marvel* poradził sobie całkiem nieźle, ale zobaczymy później, że inne modele poradziły sobie znacznie lepiej."
      ],
      "metadata": {
        "id": "osB4bRHmWFwO"
      }
    },
    {
      "cell_type": "code",
      "source": [
        "mnb_clf.classes_"
      ],
      "metadata": {
        "colab": {
          "base_uri": "https://localhost:8080/"
        },
        "id": "RzqlYGqGUmiS",
        "outputId": "7d1c42d9-b67a-42b4-ddfd-a95feca02b64"
      },
      "execution_count": 70,
      "outputs": [
        {
          "output_type": "execute_result",
          "data": {
            "text/plain": [
              "array(['DC Comics', 'Inne wydawnictwo', 'Marvel Comics'], dtype='<U16')"
            ]
          },
          "metadata": {},
          "execution_count": 70
        }
      ]
    },
    {
      "cell_type": "code",
      "source": [
        "importances = pd.DataFrame()\n",
        "importances['Marvel Comics']=mnb_clf.feature_count_[2] \n",
        "importances['DC Comics']=mnb_clf.feature_count_[0]\n",
        "importances['Inne wydawnictwo']=mnb_clf.feature_count_[1]"
      ],
      "metadata": {
        "id": "5Aiy94GUVTHW"
      },
      "execution_count": 72,
      "outputs": []
    },
    {
      "cell_type": "code",
      "source": [
        "importances"
      ],
      "metadata": {
        "colab": {
          "base_uri": "https://localhost:8080/",
          "height": 424
        },
        "id": "0wvp7SD3VslJ",
        "outputId": "d772a7ea-eb8d-468a-b872-f6c36ec48dd9"
      },
      "execution_count": 73,
      "outputs": [
        {
          "output_type": "execute_result",
          "data": {
            "text/plain": [
              "       Marvel Comics  DC Comics  Inne wydawnictwo\n",
              "0           0.000000   0.044045               0.0\n",
              "1           0.000000   0.022400               0.0\n",
              "2           0.021974   0.000000               0.0\n",
              "3           0.017803   0.000000               0.0\n",
              "4           0.017803   0.000000               0.0\n",
              "...              ...        ...               ...\n",
              "22750       0.000000   0.011434               0.0\n",
              "22751       0.000000   0.008827               0.0\n",
              "22752       0.000000   0.003728               0.0\n",
              "22753       0.000000   0.009622               0.0\n",
              "22754       0.017918   0.000000               0.0\n",
              "\n",
              "[22755 rows x 3 columns]"
            ],
            "text/html": [
              "\n",
              "  <div id=\"df-98231042-f616-4c79-9de1-2dcb6d0563e4\">\n",
              "    <div class=\"colab-df-container\">\n",
              "      <div>\n",
              "<style scoped>\n",
              "    .dataframe tbody tr th:only-of-type {\n",
              "        vertical-align: middle;\n",
              "    }\n",
              "\n",
              "    .dataframe tbody tr th {\n",
              "        vertical-align: top;\n",
              "    }\n",
              "\n",
              "    .dataframe thead th {\n",
              "        text-align: right;\n",
              "    }\n",
              "</style>\n",
              "<table border=\"1\" class=\"dataframe\">\n",
              "  <thead>\n",
              "    <tr style=\"text-align: right;\">\n",
              "      <th></th>\n",
              "      <th>Marvel Comics</th>\n",
              "      <th>DC Comics</th>\n",
              "      <th>Inne wydawnictwo</th>\n",
              "    </tr>\n",
              "  </thead>\n",
              "  <tbody>\n",
              "    <tr>\n",
              "      <th>0</th>\n",
              "      <td>0.000000</td>\n",
              "      <td>0.044045</td>\n",
              "      <td>0.0</td>\n",
              "    </tr>\n",
              "    <tr>\n",
              "      <th>1</th>\n",
              "      <td>0.000000</td>\n",
              "      <td>0.022400</td>\n",
              "      <td>0.0</td>\n",
              "    </tr>\n",
              "    <tr>\n",
              "      <th>2</th>\n",
              "      <td>0.021974</td>\n",
              "      <td>0.000000</td>\n",
              "      <td>0.0</td>\n",
              "    </tr>\n",
              "    <tr>\n",
              "      <th>3</th>\n",
              "      <td>0.017803</td>\n",
              "      <td>0.000000</td>\n",
              "      <td>0.0</td>\n",
              "    </tr>\n",
              "    <tr>\n",
              "      <th>4</th>\n",
              "      <td>0.017803</td>\n",
              "      <td>0.000000</td>\n",
              "      <td>0.0</td>\n",
              "    </tr>\n",
              "    <tr>\n",
              "      <th>...</th>\n",
              "      <td>...</td>\n",
              "      <td>...</td>\n",
              "      <td>...</td>\n",
              "    </tr>\n",
              "    <tr>\n",
              "      <th>22750</th>\n",
              "      <td>0.000000</td>\n",
              "      <td>0.011434</td>\n",
              "      <td>0.0</td>\n",
              "    </tr>\n",
              "    <tr>\n",
              "      <th>22751</th>\n",
              "      <td>0.000000</td>\n",
              "      <td>0.008827</td>\n",
              "      <td>0.0</td>\n",
              "    </tr>\n",
              "    <tr>\n",
              "      <th>22752</th>\n",
              "      <td>0.000000</td>\n",
              "      <td>0.003728</td>\n",
              "      <td>0.0</td>\n",
              "    </tr>\n",
              "    <tr>\n",
              "      <th>22753</th>\n",
              "      <td>0.000000</td>\n",
              "      <td>0.009622</td>\n",
              "      <td>0.0</td>\n",
              "    </tr>\n",
              "    <tr>\n",
              "      <th>22754</th>\n",
              "      <td>0.017918</td>\n",
              "      <td>0.000000</td>\n",
              "      <td>0.0</td>\n",
              "    </tr>\n",
              "  </tbody>\n",
              "</table>\n",
              "<p>22755 rows × 3 columns</p>\n",
              "</div>\n",
              "      <button class=\"colab-df-convert\" onclick=\"convertToInteractive('df-98231042-f616-4c79-9de1-2dcb6d0563e4')\"\n",
              "              title=\"Convert this dataframe to an interactive table.\"\n",
              "              style=\"display:none;\">\n",
              "        \n",
              "  <svg xmlns=\"http://www.w3.org/2000/svg\" height=\"24px\"viewBox=\"0 0 24 24\"\n",
              "       width=\"24px\">\n",
              "    <path d=\"M0 0h24v24H0V0z\" fill=\"none\"/>\n",
              "    <path d=\"M18.56 5.44l.94 2.06.94-2.06 2.06-.94-2.06-.94-.94-2.06-.94 2.06-2.06.94zm-11 1L8.5 8.5l.94-2.06 2.06-.94-2.06-.94L8.5 2.5l-.94 2.06-2.06.94zm10 10l.94 2.06.94-2.06 2.06-.94-2.06-.94-.94-2.06-.94 2.06-2.06.94z\"/><path d=\"M17.41 7.96l-1.37-1.37c-.4-.4-.92-.59-1.43-.59-.52 0-1.04.2-1.43.59L10.3 9.45l-7.72 7.72c-.78.78-.78 2.05 0 2.83L4 21.41c.39.39.9.59 1.41.59.51 0 1.02-.2 1.41-.59l7.78-7.78 2.81-2.81c.8-.78.8-2.07 0-2.86zM5.41 20L4 18.59l7.72-7.72 1.47 1.35L5.41 20z\"/>\n",
              "  </svg>\n",
              "      </button>\n",
              "      \n",
              "  <style>\n",
              "    .colab-df-container {\n",
              "      display:flex;\n",
              "      flex-wrap:wrap;\n",
              "      gap: 12px;\n",
              "    }\n",
              "\n",
              "    .colab-df-convert {\n",
              "      background-color: #E8F0FE;\n",
              "      border: none;\n",
              "      border-radius: 50%;\n",
              "      cursor: pointer;\n",
              "      display: none;\n",
              "      fill: #1967D2;\n",
              "      height: 32px;\n",
              "      padding: 0 0 0 0;\n",
              "      width: 32px;\n",
              "    }\n",
              "\n",
              "    .colab-df-convert:hover {\n",
              "      background-color: #E2EBFA;\n",
              "      box-shadow: 0px 1px 2px rgba(60, 64, 67, 0.3), 0px 1px 3px 1px rgba(60, 64, 67, 0.15);\n",
              "      fill: #174EA6;\n",
              "    }\n",
              "\n",
              "    [theme=dark] .colab-df-convert {\n",
              "      background-color: #3B4455;\n",
              "      fill: #D2E3FC;\n",
              "    }\n",
              "\n",
              "    [theme=dark] .colab-df-convert:hover {\n",
              "      background-color: #434B5C;\n",
              "      box-shadow: 0px 1px 3px 1px rgba(0, 0, 0, 0.15);\n",
              "      filter: drop-shadow(0px 1px 2px rgba(0, 0, 0, 0.3));\n",
              "      fill: #FFFFFF;\n",
              "    }\n",
              "  </style>\n",
              "\n",
              "      <script>\n",
              "        const buttonEl =\n",
              "          document.querySelector('#df-98231042-f616-4c79-9de1-2dcb6d0563e4 button.colab-df-convert');\n",
              "        buttonEl.style.display =\n",
              "          google.colab.kernel.accessAllowed ? 'block' : 'none';\n",
              "\n",
              "        async function convertToInteractive(key) {\n",
              "          const element = document.querySelector('#df-98231042-f616-4c79-9de1-2dcb6d0563e4');\n",
              "          const dataTable =\n",
              "            await google.colab.kernel.invokeFunction('convertToInteractive',\n",
              "                                                     [key], {});\n",
              "          if (!dataTable) return;\n",
              "\n",
              "          const docLinkHtml = 'Like what you see? Visit the ' +\n",
              "            '<a target=\"_blank\" href=https://colab.research.google.com/notebooks/data_table.ipynb>data table notebook</a>'\n",
              "            + ' to learn more about interactive tables.';\n",
              "          element.innerHTML = '';\n",
              "          dataTable['output_type'] = 'display_data';\n",
              "          await google.colab.output.renderOutput(dataTable, element);\n",
              "          const docLink = document.createElement('div');\n",
              "          docLink.innerHTML = docLinkHtml;\n",
              "          element.appendChild(docLink);\n",
              "        }\n",
              "      </script>\n",
              "    </div>\n",
              "  </div>\n",
              "  "
            ]
          },
          "metadata": {},
          "execution_count": 73
        }
      ]
    },
    {
      "cell_type": "code",
      "source": [
        "DC = importances.sort_values(by=['DC Comics'],ascending=False)['DC Comics'][0:30].index\n",
        "Marvel = importances.sort_values(by=['Marvel Comics'],ascending=False)['Marvel Comics'][0:30].index\n",
        "Inne = importances.sort_values(by=['Inne wydawnictwo'],ascending=False)['Inne wydawnictwo'][0:30].index"
      ],
      "metadata": {
        "id": "WLySriAPV0Ol"
      },
      "execution_count": 75,
      "outputs": []
    },
    {
      "cell_type": "code",
      "source": [
        "DC_words = [vectorizer_tfidf.get_feature_names()[i] for i in DC]\n",
        "Marvel_words = [vectorizer_tfidf.get_feature_names()[i] for i in Marvel]\n",
        "Inne_words = [vectorizer_tfidf.get_feature_names()[i] for i in Inne]"
      ],
      "metadata": {
        "colab": {
          "base_uri": "https://localhost:8080/"
        },
        "id": "bsW26eUmWXO_",
        "outputId": "518a8b53-12b3-4a6f-8de6-480e3db7cff1"
      },
      "execution_count": 77,
      "outputs": [
        {
          "output_type": "stream",
          "name": "stderr",
          "text": [
            "/usr/local/lib/python3.7/dist-packages/sklearn/utils/deprecation.py:87: FutureWarning: Function get_feature_names is deprecated; get_feature_names is deprecated in 1.0 and will be removed in 1.2. Please use get_feature_names_out instead.\n",
            "  warnings.warn(msg, category=FutureWarning)\n"
          ]
        }
      ]
    },
    {
      "cell_type": "code",
      "source": [
        "print(f\"Największy wpływ na zaklasyfikowanie postaci do wydawnictwa 'Marvel Comics' mają słowa: {Marvel_words},\\n do wydawnictwa DC Comics: {DC_words},\\n oraz do innego wydawnictwa {Inne_words}\", )"
      ],
      "metadata": {
        "colab": {
          "base_uri": "https://localhost:8080/"
        },
        "id": "GTMxr3d9Wblc",
        "outputId": "830b2984-9c35-4626-ee25-67ed98482bf1"
      },
      "execution_count": 82,
      "outputs": [
        {
          "output_type": "stream",
          "name": "stdout",
          "text": [
            "Największy wpływ na zaklasyfikowanie postaci do wydawnictwa 'Marvel Comics' mają słowa: ['mutant', 'power', 'man', 'spider', 'men', 'able', 'new', 'time', 'avenger', 'one', 'team', 'also', 'hulk', 'ability', 'human', 'body', 'earth', 'energy', 'force', 'later', 'xavier', 'however', 'black', 'could', 'thor', 'would', 'shield', 'wolverine', 'superhuman', 'even'],\n",
            " do wydawnictwa DC Comics: ['batman', 'superman', 'power', 'flash', 'able', 'earth', 'time', 'wayne', 'speed', 'one', 'also', 'bruce', 'gotham', 'city', 'father', 'ability', 'black', 'robin', 'adam', 'would', 'oliver', 'body', 'force', 'later', 'even', 'arrow', 'justice', 'life', 'barry', 'ray'],\n",
            " oraz do innego wydawnictwa ['ninja', 'garmadon', 'lloyd', 'power', 'master', 'ninjago', 'also', 'ability', 'serpentine', 'overlord', 'time', 'able', 'assassin', 'dragon', 'zane', 'spinjitzu', 'one', 'would', 'elemental', 'even', 'first', 'like', 'weapon', 'chen', 'kai', 'could', 'war', 'realm', 'human', 'brother']\n"
          ]
        }
      ]
    },
    {
      "cell_type": "markdown",
      "source": [
        "## 4. Knn"
      ],
      "metadata": {
        "id": "BsV2NdShA18g"
      }
    },
    {
      "cell_type": "markdown",
      "source": [
        "Następnym klasyfikatorem jest $k$-najbliższych sąsiadów. Tutaj należy z góry ustalić ilość sąsiadów, tutaj $k=3$ ze względu, iż wiemy jakie wartości przyjmuje zmienna celu i że dzieli się na 3 kategorie. "
      ],
      "metadata": {
        "id": "WUzjmPu17SzC"
      }
    },
    {
      "cell_type": "code",
      "source": [
        "from sklearn.neighbors import KNeighborsClassifier\n",
        "knn_clf = KNeighborsClassifier(n_neighbors=3)\n",
        "knn_clf.fit(X_train_tfidf, y_train)"
      ],
      "metadata": {
        "colab": {
          "base_uri": "https://localhost:8080/"
        },
        "id": "Zh5jNxScAugn",
        "outputId": "a64b727d-80b6-4a89-9bac-bca0f6aee802"
      },
      "execution_count": 49,
      "outputs": [
        {
          "output_type": "execute_result",
          "data": {
            "text/plain": [
              "KNeighborsClassifier(n_neighbors=3)"
            ]
          },
          "metadata": {},
          "execution_count": 49
        }
      ]
    },
    {
      "cell_type": "code",
      "source": [
        "knn_clf.score(X_train_tfidf, y_train), knn_clf.score(X_test_tfidf, y_test)"
      ],
      "metadata": {
        "colab": {
          "base_uri": "https://localhost:8080/"
        },
        "id": "gEYuQrJMA9Tk",
        "outputId": "9200aa17-e90e-469b-df5f-cb732ef54d56"
      },
      "execution_count": 50,
      "outputs": [
        {
          "output_type": "execute_result",
          "data": {
            "text/plain": [
              "(0.9325681492109039, 0.8595317725752508)"
            ]
          },
          "metadata": {},
          "execution_count": 50
        }
      ]
    },
    {
      "cell_type": "code",
      "source": [
        "y_pred_knn_test= knn_clf.predict(X_test_tfidf)\n",
        "print(classification_report(y_test,y_pred_knn_test)) "
      ],
      "metadata": {
        "colab": {
          "base_uri": "https://localhost:8080/"
        },
        "id": "AtR6FdBEA-1w",
        "outputId": "cf78088d-c9d7-43a7-8146-bf68e24ce8f2"
      },
      "execution_count": 51,
      "outputs": [
        {
          "output_type": "stream",
          "name": "stdout",
          "text": [
            "                  precision    recall  f1-score   support\n",
            "\n",
            "       DC Comics       0.78      0.89      0.83        85\n",
            "Inne wydawnictwo       0.90      0.63      0.74        71\n",
            "   Marvel Comics       0.90      0.95      0.93       143\n",
            "\n",
            "        accuracy                           0.86       299\n",
            "       macro avg       0.86      0.83      0.83       299\n",
            "    weighted avg       0.86      0.86      0.86       299\n",
            "\n"
          ]
        }
      ]
    },
    {
      "cell_type": "markdown",
      "source": [
        "W tym przypadku model na zbiorze uczącym poradził sobie nieco gorzej, testowy podobnie do poprzednika. Obserwujemy, że najmniejszy problem jest z przypisaniem do klasy *Marvel Comics* $f1=0.93$, natomiast jak wcześniej największy problem jest z przypisaniem do kategorii *Inne wydawnictwo* $f1=0.74$."
      ],
      "metadata": {
        "id": "Cba-2F0g7szR"
      }
    },
    {
      "cell_type": "markdown",
      "source": [
        "##5. Drzewo"
      ],
      "metadata": {
        "id": "r37GVDamE_wt"
      }
    },
    {
      "cell_type": "markdown",
      "source": [
        "W modelu drzewa mamy sporo parametrów do ustawienia, sprawdzimy je poprzez 3 krotną kroswalidację, aby dostać najlepsze parametry dla naszego zbioru."
      ],
      "metadata": {
        "id": "2t85mW6I-ttU"
      }
    },
    {
      "cell_type": "code",
      "source": [
        "from sklearn import tree\n",
        "\n",
        "tree_clf = tree.DecisionTreeClassifier()\n",
        "tree_clf.fit(X_train_tfidf, y_train)"
      ],
      "metadata": {
        "colab": {
          "base_uri": "https://localhost:8080/"
        },
        "id": "Z3SsTxpIExHr",
        "outputId": "6e865a39-0d64-4879-c21a-e5af27d03e1f"
      },
      "execution_count": 40,
      "outputs": [
        {
          "output_type": "execute_result",
          "data": {
            "text/plain": [
              "DecisionTreeClassifier()"
            ]
          },
          "metadata": {},
          "execution_count": 40
        }
      ]
    },
    {
      "cell_type": "code",
      "source": [
        "tree_clf.get_params().keys()"
      ],
      "metadata": {
        "colab": {
          "base_uri": "https://localhost:8080/"
        },
        "id": "j2sLw_Gp9pn8",
        "outputId": "e66c6d19-dd76-4c50-dd06-9afbbeb8bf98"
      },
      "execution_count": 41,
      "outputs": [
        {
          "output_type": "execute_result",
          "data": {
            "text/plain": [
              "dict_keys(['ccp_alpha', 'class_weight', 'criterion', 'max_depth', 'max_features', 'max_leaf_nodes', 'min_impurity_decrease', 'min_samples_leaf', 'min_samples_split', 'min_weight_fraction_leaf', 'random_state', 'splitter'])"
            ]
          },
          "metadata": {},
          "execution_count": 41
        }
      ]
    },
    {
      "cell_type": "code",
      "source": [
        "from sklearn.model_selection import RandomizedSearchCV\n",
        "\n",
        "# Liczba cech do rozważenia przy każdym podziale\n",
        "max_features = ['auto', 'sqrt']\n",
        "# Maksymalna liczba poziomów w drzewie\n",
        "max_depth = [int(x) for x in np.linspace(10, 110, num = 11)]\n",
        "max_depth.append(None)\n",
        "# Minimalna liczba próbek wymagana do podziału \n",
        "min_samples_split = [2, 5, 10]\n",
        "# Minimalna liczba próbek wymagana w każdym węźle liścia\n",
        "min_samples_leaf = [1, 2, 4]\n",
        "\n",
        "random_grid = {'max_features': max_features,\n",
        "               'max_depth': max_depth,\n",
        "               'min_samples_split': min_samples_split,\n",
        "               'min_samples_leaf': min_samples_leaf}\n",
        "print(random_grid)"
      ],
      "metadata": {
        "colab": {
          "base_uri": "https://localhost:8080/"
        },
        "id": "hMFgiHHB89yL",
        "outputId": "adcc36df-749a-4b7b-dfb6-f6f0039b499d"
      },
      "execution_count": 42,
      "outputs": [
        {
          "output_type": "stream",
          "name": "stdout",
          "text": [
            "{'max_features': ['auto', 'sqrt'], 'max_depth': [10, 20, 30, 40, 50, 60, 70, 80, 90, 100, 110, None], 'min_samples_split': [2, 5, 10], 'min_samples_leaf': [1, 2, 4]}\n"
          ]
        }
      ]
    },
    {
      "cell_type": "code",
      "source": [
        "grid_search_tree = GridSearchCV(estimator = tree_clf, param_grid = random_grid, \n",
        "                          cv = 3, n_jobs = -1, verbose = 2)"
      ],
      "metadata": {
        "id": "6vLBOaV99Ia0"
      },
      "execution_count": 43,
      "outputs": []
    },
    {
      "cell_type": "code",
      "source": [
        "grid_search_tree.fit(X_train_tfidf, y_train)"
      ],
      "metadata": {
        "colab": {
          "base_uri": "https://localhost:8080/"
        },
        "id": "U0gr6hIm9c6W",
        "outputId": "81960e12-fa61-41f4-acbf-c2ba2f36adab"
      },
      "execution_count": 44,
      "outputs": [
        {
          "output_type": "stream",
          "name": "stdout",
          "text": [
            "Fitting 3 folds for each of 216 candidates, totalling 648 fits\n"
          ]
        },
        {
          "output_type": "execute_result",
          "data": {
            "text/plain": [
              "GridSearchCV(cv=3, estimator=DecisionTreeClassifier(), n_jobs=-1,\n",
              "             param_grid={'max_depth': [10, 20, 30, 40, 50, 60, 70, 80, 90, 100,\n",
              "                                       110, None],\n",
              "                         'max_features': ['auto', 'sqrt'],\n",
              "                         'min_samples_leaf': [1, 2, 4],\n",
              "                         'min_samples_split': [2, 5, 10]},\n",
              "             verbose=2)"
            ]
          },
          "metadata": {},
          "execution_count": 44
        }
      ]
    },
    {
      "cell_type": "code",
      "source": [
        "grid_search_tree.best_params_"
      ],
      "metadata": {
        "colab": {
          "base_uri": "https://localhost:8080/"
        },
        "id": "DQOCEvKU9Qb5",
        "outputId": "19185d61-a6ad-451c-ae91-09819192313e"
      },
      "execution_count": 45,
      "outputs": [
        {
          "output_type": "execute_result",
          "data": {
            "text/plain": [
              "{'max_depth': 60,\n",
              " 'max_features': 'auto',\n",
              " 'min_samples_leaf': 4,\n",
              " 'min_samples_split': 10}"
            ]
          },
          "metadata": {},
          "execution_count": 45
        }
      ]
    },
    {
      "cell_type": "markdown",
      "source": [
        "Najlepsze parametry:\n",
        "\n",
        "\n",
        "{'max_depth': 60,\n",
        " 'max_features': 'auto',\n",
        " 'min_samples_leaf': 4,\n",
        " 'min_samples_split': 10}. \n",
        " \n",
        " Sprawdźmy jak wyglądają miary jakości dla tego zestawu parametrów."
      ],
      "metadata": {
        "id": "sjH7yf4v-_ki"
      }
    },
    {
      "cell_type": "code",
      "source": [
        "tree_clf_best = tree.DecisionTreeClassifier(max_depth=60, max_features ='auto', min_samples_leaf=4, min_samples_split=10)\n",
        "tree_clf_best.fit(X_train_tfidf, y_train)"
      ],
      "metadata": {
        "colab": {
          "base_uri": "https://localhost:8080/"
        },
        "id": "vFcXEZcX-reb",
        "outputId": "ea6d83c1-3ac1-470a-e72a-a922b0ea80b1"
      },
      "execution_count": 58,
      "outputs": [
        {
          "output_type": "execute_result",
          "data": {
            "text/plain": [
              "DecisionTreeClassifier(max_depth=60, max_features='auto', min_samples_leaf=4,\n",
              "                       min_samples_split=10)"
            ]
          },
          "metadata": {},
          "execution_count": 58
        }
      ]
    },
    {
      "cell_type": "code",
      "source": [
        "tree_clf_best.score(X_train_tfidf, y_train), tree_clf_best.score(X_test_tfidf, y_test)"
      ],
      "metadata": {
        "colab": {
          "base_uri": "https://localhost:8080/"
        },
        "id": "psdDZg_RFM6J",
        "outputId": "446760fc-9b60-45b6-cadc-4017cca6b4f1"
      },
      "execution_count": 59,
      "outputs": [
        {
          "output_type": "execute_result",
          "data": {
            "text/plain": [
              "(0.7747489239598279, 0.6187290969899666)"
            ]
          },
          "metadata": {},
          "execution_count": 59
        }
      ]
    },
    {
      "cell_type": "code",
      "source": [
        "y_pred_tree_test= tree_clf_best.predict(X_test_tfidf)\n",
        "print(classification_report(y_test,y_pred_tree_test))"
      ],
      "metadata": {
        "colab": {
          "base_uri": "https://localhost:8080/"
        },
        "id": "ncdyZQGdFmp7",
        "outputId": "bda3a2db-7bb2-41c8-9a33-60aae1035b17"
      },
      "execution_count": 60,
      "outputs": [
        {
          "output_type": "stream",
          "name": "stdout",
          "text": [
            "                  precision    recall  f1-score   support\n",
            "\n",
            "       DC Comics       0.58      0.55      0.57        85\n",
            "Inne wydawnictwo       0.48      0.52      0.50        71\n",
            "   Marvel Comics       0.72      0.71      0.71       143\n",
            "\n",
            "        accuracy                           0.62       299\n",
            "       macro avg       0.59      0.59      0.59       299\n",
            "    weighted avg       0.62      0.62      0.62       299\n",
            "\n"
          ]
        }
      ]
    },
    {
      "cell_type": "markdown",
      "source": [
        "Mimo doboru parametrów, widzimy, że model drzewa nie radzi sobie z predykcją na zbiorze testowym. Trafnośc na poziomie 62% jest jedynie zadowalająca. Szczególnie, że wcześniejsze modele poradziły sobie znacznie lepiej. O dziwo patrząc na miarę $f1$ najbardziej problematyczną kategorią dla tego modelu było *DC Comics*, *Inne wydawnictwo* nieznacznie lepiej i \"najlepiej\" poradził sobie z przypisaniem do *Marvel Comics* (chociaż ciężko tu mówić o najlepszym dopasowaniu gdy miara $f1$ wynosi dla tej kategorii 0.71)."
      ],
      "metadata": {
        "id": "uaT92q9QCPta"
      }
    },
    {
      "cell_type": "markdown",
      "source": [
        "## 6. SVM"
      ],
      "metadata": {
        "id": "Wd5Bu2n0GfvF"
      }
    },
    {
      "cell_type": "markdown",
      "source": [
        "Dla SVM również posłużymy się kroswalidacją w celu zbudowania modelu dla najlepszych parametrów. Najlepszy model definiujemy jako taki, który ma najlepszą trafność (to również jest parametr którym możemy manipulować)."
      ],
      "metadata": {
        "id": "mp6HrWkjEVUc"
      }
    },
    {
      "cell_type": "code",
      "source": [
        "from sklearn.model_selection import GridSearchCV\n",
        "from sklearn.svm import SVC\n",
        "from sklearn.model_selection import cross_val_score\n",
        "from sklearn.metrics import confusion_matrix\n",
        "from sklearn.model_selection import cross_validate"
      ],
      "metadata": {
        "id": "LBZtakt4Gp6F"
      },
      "execution_count": 52,
      "outputs": []
    },
    {
      "cell_type": "code",
      "source": [
        "tuned_parameters = [\n",
        "    {\"kernel\": [\"rbf\"],'gamma': ['auto', 'scale'], \"C\": [0.0001,0.001,0.01,0.1,1, 10]},\n",
        "    {\"kernel\": [\"linear\"],  \"C\": [0.0001,0.001,0.01,0.1,1, 10]},\n",
        "    {\"kernel\":[\"poly\"], 'degree': list(range(2,5)), 'gamma': ['auto', 'scale']}\n",
        "]\n",
        "\n",
        "score=\"accuracy\"\n",
        "print(\"# Strojenie hiperparametrów dla największej trafności, ang. %s\" % score)\n",
        "print()\n",
        "clf = GridSearchCV(SVC(), tuned_parameters, scoring=score)\n",
        "\n",
        "clf.fit(X_train_tfidf, y_train)\n",
        "\n",
        "print(\"Najlepszy zestaw parametrów:\")\n",
        "print()\n",
        "print(clf.best_params_)\n",
        "print()\n",
        "print(\"Wyniki dla kolejnych zestawów parametrów:\")\n",
        "print()\n",
        "means = clf.cv_results_[\"mean_test_score\"]\n",
        "stds = clf.cv_results_[\"std_test_score\"]\n",
        "for mean, std, params in zip(means, stds, clf.cv_results_[\"params\"]):\n",
        "    print(\"%0.3f (+/-%0.03f) dla %r\" % (mean, std * 2, params))\n",
        "print()"
      ],
      "metadata": {
        "colab": {
          "base_uri": "https://localhost:8080/"
        },
        "id": "WI-mkyvSGYby",
        "outputId": "b6ff2eac-7b21-4e4e-ac15-6e634e0cc498"
      },
      "execution_count": 53,
      "outputs": [
        {
          "output_type": "stream",
          "name": "stdout",
          "text": [
            "# Strojenie hiperparametrów dla największej trafności, ang. accuracy\n",
            "\n",
            "Najlepszy zestaw parametrów:\n",
            "\n",
            "{'C': 1, 'kernel': 'linear'}\n",
            "\n",
            "Wyniki dla kolejnych zestawów parametrów:\n",
            "\n",
            "0.476 (+/-0.004) dla {'C': 0.0001, 'gamma': 'auto', 'kernel': 'rbf'}\n",
            "0.476 (+/-0.004) dla {'C': 0.0001, 'gamma': 'scale', 'kernel': 'rbf'}\n",
            "0.476 (+/-0.004) dla {'C': 0.001, 'gamma': 'auto', 'kernel': 'rbf'}\n",
            "0.476 (+/-0.004) dla {'C': 0.001, 'gamma': 'scale', 'kernel': 'rbf'}\n",
            "0.476 (+/-0.004) dla {'C': 0.01, 'gamma': 'auto', 'kernel': 'rbf'}\n",
            "0.476 (+/-0.004) dla {'C': 0.01, 'gamma': 'scale', 'kernel': 'rbf'}\n",
            "0.476 (+/-0.004) dla {'C': 0.1, 'gamma': 'auto', 'kernel': 'rbf'}\n",
            "0.476 (+/-0.004) dla {'C': 0.1, 'gamma': 'scale', 'kernel': 'rbf'}\n",
            "0.476 (+/-0.004) dla {'C': 1, 'gamma': 'auto', 'kernel': 'rbf'}\n",
            "0.743 (+/-0.047) dla {'C': 1, 'gamma': 'scale', 'kernel': 'rbf'}\n",
            "0.476 (+/-0.004) dla {'C': 10, 'gamma': 'auto', 'kernel': 'rbf'}\n",
            "0.803 (+/-0.066) dla {'C': 10, 'gamma': 'scale', 'kernel': 'rbf'}\n",
            "0.476 (+/-0.004) dla {'C': 0.0001, 'kernel': 'linear'}\n",
            "0.476 (+/-0.004) dla {'C': 0.001, 'kernel': 'linear'}\n",
            "0.476 (+/-0.004) dla {'C': 0.01, 'kernel': 'linear'}\n",
            "0.476 (+/-0.004) dla {'C': 0.1, 'kernel': 'linear'}\n",
            "0.875 (+/-0.043) dla {'C': 1, 'kernel': 'linear'}\n",
            "0.869 (+/-0.051) dla {'C': 10, 'kernel': 'linear'}\n",
            "0.476 (+/-0.004) dla {'degree': 2, 'gamma': 'auto', 'kernel': 'poly'}\n",
            "0.616 (+/-0.044) dla {'degree': 2, 'gamma': 'scale', 'kernel': 'poly'}\n",
            "0.476 (+/-0.004) dla {'degree': 3, 'gamma': 'auto', 'kernel': 'poly'}\n",
            "0.511 (+/-0.035) dla {'degree': 3, 'gamma': 'scale', 'kernel': 'poly'}\n",
            "0.476 (+/-0.004) dla {'degree': 4, 'gamma': 'auto', 'kernel': 'poly'}\n",
            "0.489 (+/-0.019) dla {'degree': 4, 'gamma': 'scale', 'kernel': 'poly'}\n",
            "\n"
          ]
        }
      ]
    },
    {
      "cell_type": "markdown",
      "source": [
        "Najlepszy wynik kroswalidacji uzyskaliśmy dla jądra liniowego i parametru C=1, dla niego trafność to 0.875. Nieznacznie gorszy wynik uzyskaliśmy dla jądra liniowego i C=10, trafność wynosi 0.869. Trzeci w koleności wynik jest dla jądra \"radial\" z parametrami C=10 oraz gamma = scale."
      ],
      "metadata": {
        "id": "ucDmXOPYEfK9"
      }
    },
    {
      "cell_type": "code",
      "source": [
        "from sklearn.svm import LinearSVC\n",
        "svm_clf = LinearSVC(C=1)"
      ],
      "metadata": {
        "id": "SnJv64LSHjAu"
      },
      "execution_count": 54,
      "outputs": []
    },
    {
      "cell_type": "code",
      "source": [
        "svm_clf.fit(X_train_tfidf, y_train)"
      ],
      "metadata": {
        "colab": {
          "base_uri": "https://localhost:8080/"
        },
        "id": "E6o0Wts8HlWl",
        "outputId": "7983fed9-dd1f-4fbb-cb98-57b9b2da0ee4"
      },
      "execution_count": 55,
      "outputs": [
        {
          "output_type": "execute_result",
          "data": {
            "text/plain": [
              "LinearSVC(C=1)"
            ]
          },
          "metadata": {},
          "execution_count": 55
        }
      ]
    },
    {
      "cell_type": "code",
      "source": [
        "svm_clf.score(X_train_tfidf, y_train), svm_clf.score(X_test_tfidf, y_test)"
      ],
      "metadata": {
        "colab": {
          "base_uri": "https://localhost:8080/"
        },
        "id": "i0P9IA45Hm1P",
        "outputId": "d816341a-8df1-4e0c-f319-d0320eeade2d"
      },
      "execution_count": 56,
      "outputs": [
        {
          "output_type": "execute_result",
          "data": {
            "text/plain": [
              "(0.9985652797704447, 0.8762541806020067)"
            ]
          },
          "metadata": {},
          "execution_count": 56
        }
      ]
    },
    {
      "cell_type": "code",
      "source": [
        "y_pred_svm_test= svm_clf.predict(X_test_tfidf)\n",
        "print(classification_report(y_test,y_pred_svm_test))"
      ],
      "metadata": {
        "colab": {
          "base_uri": "https://localhost:8080/"
        },
        "id": "YM08-ByjHog4",
        "outputId": "ce9f97a9-aadf-4ea5-c09c-9a72d04b0589"
      },
      "execution_count": 57,
      "outputs": [
        {
          "output_type": "stream",
          "name": "stdout",
          "text": [
            "                  precision    recall  f1-score   support\n",
            "\n",
            "       DC Comics       0.87      0.88      0.88        85\n",
            "Inne wydawnictwo       0.89      0.66      0.76        71\n",
            "   Marvel Comics       0.88      0.98      0.92       143\n",
            "\n",
            "        accuracy                           0.88       299\n",
            "       macro avg       0.88      0.84      0.85       299\n",
            "    weighted avg       0.88      0.88      0.87       299\n",
            "\n"
          ]
        }
      ]
    },
    {
      "cell_type": "markdown",
      "source": [
        "Model ten poradził sobie najlepiej ze zbiorem testowym. Trafnośc na tym zbiorze wynosi 88%. Jak wcześniej najgorzej przewidywaną grupą jest *Inne wydawnictwo*, ale $f-1=0.76$ nie jest wynikiem tragicznym. Szczególnie, że dla dwóch innych kategorii miara $f-1$ jest bardzo wysoka. "
      ],
      "metadata": {
        "id": "IfUNb7U_FVO2"
      }
    },
    {
      "cell_type": "markdown",
      "source": [
        "## 7. ROC\n"
      ],
      "metadata": {
        "id": "T79x9L6wSDPY"
      }
    },
    {
      "cell_type": "markdown",
      "source": [
        "Dobrym sprawdzeniem są również krzywe ROC, sprawdźmy jak one będą wyglądać.\n",
        "\n",
        "Musimy najpierw przemapować kategorie. Oraz napisać odpowiednią funkcję, korzystając z pakietu, który i tak dużo ułatwia *yellowbrick*."
      ],
      "metadata": {
        "id": "bl_AXzhpGL8L"
      }
    },
    {
      "cell_type": "code",
      "source": [
        "y_train_t = y_train.map({'DC Comics':0, 'Marvel Comics':1, 'Inne wydawnictwo':2})\n",
        "y_test_t = y_test.map({'DC Comics':0, 'Marvel Comics':1, 'Inne wydawnictwo':2})"
      ],
      "metadata": {
        "id": "FR89dXbbHoaF"
      },
      "execution_count": 61,
      "outputs": []
    },
    {
      "cell_type": "code",
      "source": [
        "from yellowbrick.classifier import ROCAUC\n",
        "\n",
        "\n",
        "def plot_ROC_curve(model, xtrain, ytrain, xtest, ytest):\n",
        "\n",
        "    # Tworzenie wizualizacji z czytelnymi etykietami\n",
        "    visualizer = ROCAUC(model, classes=['DC Comics', 'Marvel Comics', 'Inne wydawnictwo'],micro=False, macro=False, force_model=True)\n",
        "                                        \n",
        "    # Najpierw dopasowanie do danych treningowych, a następnie punktacja za pomocą danych testowych                                   \n",
        "    visualizer.fit(xtrain, ytrain)\n",
        "    visualizer.score(xtest, ytest)\n",
        "    visualizer.show()\n",
        "    \n",
        "    return visualizer"
      ],
      "metadata": {
        "id": "-JF9itc9SK5e"
      },
      "execution_count": 62,
      "outputs": []
    },
    {
      "cell_type": "code",
      "source": [
        "plot_ROC_curve(gnb_clf, X_train_tfidf, y_train_t, X_test_tfidf, y_test_t)"
      ],
      "metadata": {
        "colab": {
          "base_uri": "https://localhost:8080/",
          "height": 436
        },
        "id": "nDBzD0FySO1P",
        "outputId": "590688d9-eeb6-4506-b542-5992a7d1de74"
      },
      "execution_count": 63,
      "outputs": [
        {
          "output_type": "stream",
          "name": "stderr",
          "text": [
            "/usr/local/lib/python3.7/dist-packages/numpy/core/numeric.py:2446: FutureWarning: elementwise comparison failed; returning scalar instead, but in the future will perform elementwise comparison\n",
            "  return bool(asarray(a1 == a2).all())\n",
            "/usr/local/lib/python3.7/dist-packages/sklearn/metrics/_classification.py:217: FutureWarning: elementwise comparison failed; returning scalar instead, but in the future will perform elementwise comparison\n",
            "  score = y_true == y_pred\n"
          ]
        },
        {
          "output_type": "display_data",
          "data": {
            "text/plain": [
              "<Figure size 432x288 with 1 Axes>"
            ],
            "image/png": "[encoded data removed]"
          },
          "metadata": {
            "needs_background": "light"
          }
        },
        {
          "output_type": "execute_result",
          "data": {
            "text/plain": [
              "ROCAUC(ax=<matplotlib.axes._subplots.AxesSubplot object at 0x7f92407de7d0>,\n",
              "       classes=['DC Comics', 'Marvel Comics', 'Inne wydawnictwo'],\n",
              "       estimator=GaussianNB(), force_model=True, macro=False, micro=False)"
            ]
          },
          "metadata": {},
          "execution_count": 63
        }
      ]
    },
    {
      "cell_type": "code",
      "source": [
        "plot_ROC_curve(knn_clf, X_train_tfidf, y_train_t, X_test_tfidf, y_test_t)"
      ],
      "metadata": {
        "colab": {
          "base_uri": "https://localhost:8080/",
          "height": 363
        },
        "id": "YVj3gnjNSXi9",
        "outputId": "2c037460-687e-4261-f508-c6901669bbc8"
      },
      "execution_count": 64,
      "outputs": [
        {
          "output_type": "display_data",
          "data": {
            "text/plain": [
              "<Figure size 432x288 with 1 Axes>"
            ],
            "image/png": "[encoded data removed]"
          },
          "metadata": {
            "needs_background": "light"
          }
        },
        {
          "output_type": "execute_result",
          "data": {
            "text/plain": [
              "ROCAUC(ax=<matplotlib.axes._subplots.AxesSubplot object at 0x7f924078bdd0>,\n",
              "       classes=['DC Comics', 'Marvel Comics', 'Inne wydawnictwo'],\n",
              "       estimator=KNeighborsClassifier(n_neighbors=3), force_model=True,\n",
              "       macro=False, micro=False)"
            ]
          },
          "metadata": {},
          "execution_count": 64
        }
      ]
    },
    {
      "cell_type": "code",
      "source": [
        "plot_ROC_curve(tree_clf, X_train_tfidf, y_train_t, X_test_tfidf, y_test_t)"
      ],
      "metadata": {
        "colab": {
          "base_uri": "https://localhost:8080/",
          "height": 363
        },
        "id": "H_8lpjowSaaw",
        "outputId": "9c9844e4-48bd-41f5-b7a6-af3f7034118d"
      },
      "execution_count": 65,
      "outputs": [
        {
          "output_type": "display_data",
          "data": {
            "text/plain": [
              "<Figure size 432x288 with 1 Axes>"
            ],
            "image/png": "[encoded data removed]"
          },
          "metadata": {
            "needs_background": "light"
          }
        },
        {
          "output_type": "execute_result",
          "data": {
            "text/plain": [
              "ROCAUC(ax=<matplotlib.axes._subplots.AxesSubplot object at 0x7f924074ee10>,\n",
              "       classes=['DC Comics', 'Marvel Comics', 'Inne wydawnictwo'],\n",
              "       estimator=DecisionTreeClassifier(), force_model=True, macro=False,\n",
              "       micro=False)"
            ]
          },
          "metadata": {},
          "execution_count": 65
        }
      ]
    },
    {
      "cell_type": "code",
      "source": [
        "plot_ROC_curve(svm_clf, X_train_tfidf, y_train_t, X_test_tfidf, y_test_t)"
      ],
      "metadata": {
        "colab": {
          "base_uri": "https://localhost:8080/",
          "height": 346
        },
        "id": "0aD6P8ZTSQpU",
        "outputId": "62b9858c-4131-44b6-af08-1a45c08a4b5f"
      },
      "execution_count": 66,
      "outputs": [
        {
          "output_type": "display_data",
          "data": {
            "text/plain": [
              "<Figure size 432x288 with 1 Axes>"
            ],
            "image/png": "[encoded data removed]"
          },
          "metadata": {
            "needs_background": "light"
          }
        },
        {
          "output_type": "execute_result",
          "data": {
            "text/plain": [
              "ROCAUC(ax=<matplotlib.axes._subplots.AxesSubplot object at 0x7f92407f6250>,\n",
              "       classes=['DC Comics', 'Marvel Comics', 'Inne wydawnictwo'],\n",
              "       estimator=LinearSVC(C=1), force_model=True, macro=False, micro=False)"
            ]
          },
          "metadata": {},
          "execution_count": 66
        }
      ]
    },
    {
      "cell_type": "markdown",
      "source": [
        "Krzywe ROC zostały narysowane metodą jeden przeciwko wszystkim, tzn. gdy rysujemy krzywą dla kategorii *Marvel* uznajemy to jako 1, a *DC* oraz *Inne wydawnictwo* uznajemy jako 0, zamieniając to na problem binarny."
      ],
      "metadata": {
        "id": "ErsijnhsiJFb"
      }
    },
    {
      "cell_type": "markdown",
      "source": [
        "## 8. Wnioski"
      ],
      "metadata": {
        "id": "sGUB6xaYk675"
      }
    },
    {
      "cell_type": "markdown",
      "source": [
        "Uważam, że narysowanie krzywych ROC miało jak najbardziej sens. Wcześniej zastanawiałam się nad wybraniem najlepszego modelu między modelem SVM z wybranymi parametrami i modelem Naiwnego Bayesa. Miary jakości dla obydwu tych modeli były bardzo zbliżone. Myślałam, że uśrednione miary $f-1$ pozwolą na wyciągnięcie większych wniosków, ale tak też się nie stało.  Mimo \"kanciastej\" linii dla NB, miary AUC dla 2 klas słabiej rozpoznawalnych przez modele są powyżej 0.3. A dla modelu SVM poniżej 0.25. A więc dopiero z krzywych ROC uznaję, że najlepszym wyborem dla tego zbioru danych i spośród zbadanych modeli jest model Naiwnego Bayesa."
      ],
      "metadata": {
        "id": "TnDttVOFix3B"
      }
    },
    {
      "cell_type": "markdown",
      "source": [
        "# 2. Klasyfikacja dla większej ilości zmiennych\n"
      ],
      "metadata": {
        "id": "uuTc8JxgSjU4"
      }
    },
    {
      "cell_type": "markdown",
      "source": [
        "## 1. Przygotowanie danych"
      ],
      "metadata": {
        "id": "roBygwHYf-LZ"
      }
    },
    {
      "cell_type": "code",
      "source": [
        "dane_dod = dane.fillna(0).replace(['∞', '-'],0)"
      ],
      "metadata": {
        "id": "uGEs6jZnSpHi"
      },
      "execution_count": 83,
      "outputs": []
    },
    {
      "cell_type": "code",
      "source": [
        "dane_dod.columns"
      ],
      "metadata": {
        "colab": {
          "base_uri": "https://localhost:8080/"
        },
        "id": "YI6OjlIESxAA",
        "outputId": "5700447b-6ff2-4d0d-bfb7-60844e73a464"
      },
      "execution_count": 84,
      "outputs": [
        {
          "output_type": "execute_result",
          "data": {
            "text/plain": [
              "Index(['name', 'real_name', 'full_name', 'overall_score', 'history_text',\n",
              "       'powers_text', 'intelligence_score', 'strength_score', 'speed_score',\n",
              "       'durability_score', 'power_score', 'combat_score', 'superpowers',\n",
              "       'alter_egos', 'aliases', 'place_of_birth', 'first_appearance',\n",
              "       'creator', 'alignment', 'occupation', 'base', 'teams', 'relatives',\n",
              "       'gender', 'type_race', 'height', 'weight', 'eye_color', 'hair_color',\n",
              "       'skin_color', 'img', 'has_electrokinesis', 'has_energy_constructs',\n",
              "       'has_mind_control_resistance', 'has_matter_manipulation',\n",
              "       'has_telepathy_resistance', 'has_mind_control', 'has_enhanced_hearing',\n",
              "       'has_dimensional_travel', 'has_element_control', 'has_size_changing',\n",
              "       'has_fire_resistance', 'has_fire_control', 'has_dexterity',\n",
              "       'has_reality_warping', 'has_illusions', 'has_energy_beams',\n",
              "       'has_peak_human_condition', 'has_shapeshifting', 'has_heat_resistance',\n",
              "       'has_jump', 'has_self-sustenance', 'has_energy_absorption',\n",
              "       'has_cold_resistance', 'has_magic', 'has_telekinesis',\n",
              "       'has_toxin_and_disease_resistance', 'has_telepathy', 'has_regeneration',\n",
              "       'has_immortality', 'has_teleportation', 'has_force_fields',\n",
              "       'has_energy_manipulation', 'has_endurance', 'has_longevity',\n",
              "       'has_weapon-based_powers', 'has_energy_blasts', 'has_enhanced_senses',\n",
              "       'has_invulnerability', 'has_stealth', 'has_marksmanship', 'has_flight',\n",
              "       'has_accelerated_healing', 'has_weapons_master', 'has_intelligence',\n",
              "       'has_reflexes', 'has_super_speed', 'has_durability', 'has_stamina',\n",
              "       'has_agility', 'has_super_strength', 'wydawnictwo'],\n",
              "      dtype='object')"
            ]
          },
          "metadata": {},
          "execution_count": 84
        }
      ]
    },
    {
      "cell_type": "code",
      "source": [
        "num_cols = ['overall_score', 'intelligence_score', 'strength_score', 'speed_score',\n",
        "       'durability_score', 'power_score', 'combat_score', 'has_electrokinesis', 'has_energy_constructs',\n",
        "       'has_mind_control_resistance', 'has_matter_manipulation',\n",
        "       'has_telepathy_resistance', 'has_mind_control', 'has_enhanced_hearing',\n",
        "       'has_dimensional_travel', 'has_element_control', 'has_size_changing',\n",
        "       'has_fire_resistance', 'has_fire_control', 'has_dexterity',\n",
        "       'has_reality_warping', 'has_illusions', 'has_energy_beams',\n",
        "       'has_peak_human_condition', 'has_shapeshifting', 'has_heat_resistance',\n",
        "       'has_jump', 'has_self-sustenance', 'has_energy_absorption',\n",
        "       'has_cold_resistance', 'has_magic', 'has_telekinesis',\n",
        "       'has_toxin_and_disease_resistance', 'has_telepathy', 'has_regeneration',\n",
        "       'has_immortality', 'has_teleportation', 'has_force_fields',\n",
        "       'has_energy_manipulation', 'has_endurance', 'has_longevity',\n",
        "       'has_weapon-based_powers', 'has_energy_blasts', 'has_enhanced_senses',\n",
        "       'has_invulnerability', 'has_stealth', 'has_marksmanship', 'has_flight',\n",
        "       'has_accelerated_healing', 'has_weapons_master', 'has_intelligence',\n",
        "       'has_reflexes', 'has_super_speed', 'has_durability', 'has_stamina',\n",
        "       'has_agility', 'has_super_strength',]\n",
        "text_cols = ['history_text',\n",
        "       'powers_text', 'superpowers',\n",
        "       'alter_egos', 'aliases', 'place_of_birth', 'first_appearance',\n",
        "       'alignment', 'occupation', 'base', 'teams', 'relatives',\n",
        "       'gender', 'type_race', 'height', 'weight', 'eye_color', 'hair_color',\n",
        "       'skin_color']"
      ],
      "metadata": {
        "id": "wwfbRglHS2Ex"
      },
      "execution_count": 85,
      "outputs": []
    },
    {
      "cell_type": "markdown",
      "source": [
        "## 2. Przygotowanie danych numerycznych, standaryzacja"
      ],
      "metadata": {
        "id": "iwbrWmnQWJ8S"
      }
    },
    {
      "cell_type": "code",
      "source": [
        "df_num = dane_dod[num_cols].astype(float)"
      ],
      "metadata": {
        "id": "ROakvv_SS6mj"
      },
      "execution_count": 86,
      "outputs": []
    },
    {
      "cell_type": "code",
      "source": [
        "from sklearn.preprocessing import StandardScaler\n",
        "scaler = StandardScaler()\n",
        "df_num_standarized = pd.DataFrame(scaler.fit_transform(df_num))"
      ],
      "metadata": {
        "id": "_pGdMrl4S66I"
      },
      "execution_count": 87,
      "outputs": []
    },
    {
      "cell_type": "code",
      "source": [
        "df_num_standarized"
      ],
      "metadata": {
        "colab": {
          "base_uri": "https://localhost:8080/",
          "height": 488
        },
        "id": "jM9fmjdiTCNo",
        "outputId": "190f2c2b-ef6a-4a1a-ccd0-73e39ca958e5"
      },
      "execution_count": 88,
      "outputs": [
        {
          "output_type": "execute_result",
          "data": {
            "text/plain": [
              "            0         1        2         3         4         5         6   \\\n",
              "0    -0.340330  0.235488 -0.27517  0.466174  0.120331 -0.810323  0.061772   \n",
              "1    -0.153971  0.834535 -0.56609 -0.561370 -0.195756 -0.960863  1.077680   \n",
              "2     0.311927  0.035805  1.76127  1.151204  1.384682  0.996162  0.400408   \n",
              "3    -0.060792  0.035805  0.30667  0.294917 -0.353800  0.996162 -0.446182   \n",
              "4    -0.386920  0.035805 -0.85701 -0.732627 -0.511844 -1.111404 -0.615500   \n",
              "...        ...       ...      ...       ...       ...       ...       ...   \n",
              "1445 -0.153971  0.435170 -0.85701 -0.732627 -0.827932  0.996162 -0.446182   \n",
              "1446  0.218747  0.035805  1.76127  1.836233  1.384682  0.996162  0.400408   \n",
              "1447  0.311927  0.634853  0.30667  1.836233  0.594463  0.996162  0.400408   \n",
              "1448 -0.200561 -0.163877 -0.85701  1.836233 -0.827932  0.996162 -1.292772   \n",
              "1449 -0.386920 -1.361972  1.17943  0.979946  1.226638  0.394001 -0.615500   \n",
              "\n",
              "            7         8         9   ...        47        48        49  \\\n",
              "0    -0.307148 -0.280836 -0.279405  ... -0.584252 -0.644993 -0.801330   \n",
              "1    -0.307148 -0.280836 -0.279405  ... -0.584252 -0.644993 -0.801330   \n",
              "2    -0.307148 -0.280836 -0.279405  ... -0.584252  1.550405 -0.801330   \n",
              "3    -0.307148  3.560793 -0.279405  ... -0.584252 -0.644993 -0.801330   \n",
              "4    -0.307148 -0.280836 -0.279405  ... -0.584252 -0.644993  1.247926   \n",
              "...        ...       ...       ...  ...       ...       ...       ...   \n",
              "1445 -0.307148 -0.280836 -0.279405  ... -0.584252 -0.644993 -0.801330   \n",
              "1446 -0.307148 -0.280836 -0.279405  ... -0.584252  1.550405  1.247926   \n",
              "1447  3.255764 -0.280836 -0.279405  ... -0.584252  1.550405 -0.801330   \n",
              "1448 -0.307148 -0.280836 -0.279405  ... -0.584252 -0.644993 -0.801330   \n",
              "1449  3.255764 -0.280836 -0.279405  ...  1.711590 -0.644993 -0.801330   \n",
              "\n",
              "            50        51        52       53        54        55        56  \n",
              "0    -0.838974 -0.831835  1.307777 -0.97682 -1.016691 -1.075982  0.991758  \n",
              "1    -0.838974  1.202162 -0.764656  1.02373 -1.016691 -1.075982  0.991758  \n",
              "2    -0.838974  1.202162  1.307777  1.02373  0.983583  0.929383  0.991758  \n",
              "3    -0.838974 -0.831835 -0.764656 -0.97682 -1.016691 -1.075982 -1.008310  \n",
              "4    -0.838974 -0.831835 -0.764656 -0.97682 -1.016691 -1.075982 -1.008310  \n",
              "...        ...       ...       ...      ...       ...       ...       ...  \n",
              "1445 -0.838974 -0.831835 -0.764656 -0.97682 -1.016691 -1.075982 -1.008310  \n",
              "1446  1.191932  1.202162  1.307777  1.02373  0.983583  0.929383  0.991758  \n",
              "1447  1.191932  1.202162  1.307777  1.02373  0.983583  0.929383  0.991758  \n",
              "1448 -0.838974 -0.831835  1.307777 -0.97682 -1.016691 -1.075982 -1.008310  \n",
              "1449 -0.838974 -0.831835  1.307777 -0.97682 -1.016691  0.929383  0.991758  \n",
              "\n",
              "[1450 rows x 57 columns]"
            ],
            "text/html": [
              "\n",
              "  <div id=\"df-8cfb2dbd-e256-4a42-b5a9-bdf3deaf7eb9\">\n",
              "    <div class=\"colab-df-container\">\n",
              "      <div>\n",
              "<style scoped>\n",
              "    .dataframe tbody tr th:only-of-type {\n",
              "        vertical-align: middle;\n",
              "    }\n",
              "\n",
              "    .dataframe tbody tr th {\n",
              "        vertical-align: top;\n",
              "    }\n",
              "\n",
              "    .dataframe thead th {\n",
              "        text-align: right;\n",
              "    }\n",
              "</style>\n",
              "<table border=\"1\" class=\"dataframe\">\n",
              "  <thead>\n",
              "    <tr style=\"text-align: right;\">\n",
              "      <th></th>\n",
              "      <th>0</th>\n",
              "      <th>1</th>\n",
              "      <th>2</th>\n",
              "      <th>3</th>\n",
              "      <th>4</th>\n",
              "      <th>5</th>\n",
              "      <th>6</th>\n",
              "      <th>7</th>\n",
              "      <th>8</th>\n",
              "      <th>9</th>\n",
              "      <th>...</th>\n",
              "      <th>47</th>\n",
              "      <th>48</th>\n",
              "      <th>49</th>\n",
              "      <th>50</th>\n",
              "      <th>51</th>\n",
              "      <th>52</th>\n",
              "      <th>53</th>\n",
              "      <th>54</th>\n",
              "      <th>55</th>\n",
              "      <th>56</th>\n",
              "    </tr>\n",
              "  </thead>\n",
              "  <tbody>\n",
              "    <tr>\n",
              "      <th>0</th>\n",
              "      <td>-0.340330</td>\n",
              "      <td>0.235488</td>\n",
              "      <td>-0.27517</td>\n",
              "      <td>0.466174</td>\n",
              "      <td>0.120331</td>\n",
              "      <td>-0.810323</td>\n",
              "      <td>0.061772</td>\n",
              "      <td>-0.307148</td>\n",
              "      <td>-0.280836</td>\n",
              "      <td>-0.279405</td>\n",
              "      <td>...</td>\n",
              "      <td>-0.584252</td>\n",
              "      <td>-0.644993</td>\n",
              "      <td>-0.801330</td>\n",
              "      <td>-0.838974</td>\n",
              "      <td>-0.831835</td>\n",
              "      <td>1.307777</td>\n",
              "      <td>-0.97682</td>\n",
              "      <td>-1.016691</td>\n",
              "      <td>-1.075982</td>\n",
              "      <td>0.991758</td>\n",
              "    </tr>\n",
              "    <tr>\n",
              "      <th>1</th>\n",
              "      <td>-0.153971</td>\n",
              "      <td>0.834535</td>\n",
              "      <td>-0.56609</td>\n",
              "      <td>-0.561370</td>\n",
              "      <td>-0.195756</td>\n",
              "      <td>-0.960863</td>\n",
              "      <td>1.077680</td>\n",
              "      <td>-0.307148</td>\n",
              "      <td>-0.280836</td>\n",
              "      <td>-0.279405</td>\n",
              "      <td>...</td>\n",
              "      <td>-0.584252</td>\n",
              "      <td>-0.644993</td>\n",
              "      <td>-0.801330</td>\n",
              "      <td>-0.838974</td>\n",
              "      <td>1.202162</td>\n",
              "      <td>-0.764656</td>\n",
              "      <td>1.02373</td>\n",
              "      <td>-1.016691</td>\n",
              "      <td>-1.075982</td>\n",
              "      <td>0.991758</td>\n",
              "    </tr>\n",
              "    <tr>\n",
              "      <th>2</th>\n",
              "      <td>0.311927</td>\n",
              "      <td>0.035805</td>\n",
              "      <td>1.76127</td>\n",
              "      <td>1.151204</td>\n",
              "      <td>1.384682</td>\n",
              "      <td>0.996162</td>\n",
              "      <td>0.400408</td>\n",
              "      <td>-0.307148</td>\n",
              "      <td>-0.280836</td>\n",
              "      <td>-0.279405</td>\n",
              "      <td>...</td>\n",
              "      <td>-0.584252</td>\n",
              "      <td>1.550405</td>\n",
              "      <td>-0.801330</td>\n",
              "      <td>-0.838974</td>\n",
              "      <td>1.202162</td>\n",
              "      <td>1.307777</td>\n",
              "      <td>1.02373</td>\n",
              "      <td>0.983583</td>\n",
              "      <td>0.929383</td>\n",
              "      <td>0.991758</td>\n",
              "    </tr>\n",
              "    <tr>\n",
              "      <th>3</th>\n",
              "      <td>-0.060792</td>\n",
              "      <td>0.035805</td>\n",
              "      <td>0.30667</td>\n",
              "      <td>0.294917</td>\n",
              "      <td>-0.353800</td>\n",
              "      <td>0.996162</td>\n",
              "      <td>-0.446182</td>\n",
              "      <td>-0.307148</td>\n",
              "      <td>3.560793</td>\n",
              "      <td>-0.279405</td>\n",
              "      <td>...</td>\n",
              "      <td>-0.584252</td>\n",
              "      <td>-0.644993</td>\n",
              "      <td>-0.801330</td>\n",
              "      <td>-0.838974</td>\n",
              "      <td>-0.831835</td>\n",
              "      <td>-0.764656</td>\n",
              "      <td>-0.97682</td>\n",
              "      <td>-1.016691</td>\n",
              "      <td>-1.075982</td>\n",
              "      <td>-1.008310</td>\n",
              "    </tr>\n",
              "    <tr>\n",
              "      <th>4</th>\n",
              "      <td>-0.386920</td>\n",
              "      <td>0.035805</td>\n",
              "      <td>-0.85701</td>\n",
              "      <td>-0.732627</td>\n",
              "      <td>-0.511844</td>\n",
              "      <td>-1.111404</td>\n",
              "      <td>-0.615500</td>\n",
              "      <td>-0.307148</td>\n",
              "      <td>-0.280836</td>\n",
              "      <td>-0.279405</td>\n",
              "      <td>...</td>\n",
              "      <td>-0.584252</td>\n",
              "      <td>-0.644993</td>\n",
              "      <td>1.247926</td>\n",
              "      <td>-0.838974</td>\n",
              "      <td>-0.831835</td>\n",
              "      <td>-0.764656</td>\n",
              "      <td>-0.97682</td>\n",
              "      <td>-1.016691</td>\n",
              "      <td>-1.075982</td>\n",
              "      <td>-1.008310</td>\n",
              "    </tr>\n",
              "    <tr>\n",
              "      <th>...</th>\n",
              "      <td>...</td>\n",
              "      <td>...</td>\n",
              "      <td>...</td>\n",
              "      <td>...</td>\n",
              "      <td>...</td>\n",
              "      <td>...</td>\n",
              "      <td>...</td>\n",
              "      <td>...</td>\n",
              "      <td>...</td>\n",
              "      <td>...</td>\n",
              "      <td>...</td>\n",
              "      <td>...</td>\n",
              "      <td>...</td>\n",
              "      <td>...</td>\n",
              "      <td>...</td>\n",
              "      <td>...</td>\n",
              "      <td>...</td>\n",
              "      <td>...</td>\n",
              "      <td>...</td>\n",
              "      <td>...</td>\n",
              "      <td>...</td>\n",
              "    </tr>\n",
              "    <tr>\n",
              "      <th>1445</th>\n",
              "      <td>-0.153971</td>\n",
              "      <td>0.435170</td>\n",
              "      <td>-0.85701</td>\n",
              "      <td>-0.732627</td>\n",
              "      <td>-0.827932</td>\n",
              "      <td>0.996162</td>\n",
              "      <td>-0.446182</td>\n",
              "      <td>-0.307148</td>\n",
              "      <td>-0.280836</td>\n",
              "      <td>-0.279405</td>\n",
              "      <td>...</td>\n",
              "      <td>-0.584252</td>\n",
              "      <td>-0.644993</td>\n",
              "      <td>-0.801330</td>\n",
              "      <td>-0.838974</td>\n",
              "      <td>-0.831835</td>\n",
              "      <td>-0.764656</td>\n",
              "      <td>-0.97682</td>\n",
              "      <td>-1.016691</td>\n",
              "      <td>-1.075982</td>\n",
              "      <td>-1.008310</td>\n",
              "    </tr>\n",
              "    <tr>\n",
              "      <th>1446</th>\n",
              "      <td>0.218747</td>\n",
              "      <td>0.035805</td>\n",
              "      <td>1.76127</td>\n",
              "      <td>1.836233</td>\n",
              "      <td>1.384682</td>\n",
              "      <td>0.996162</td>\n",
              "      <td>0.400408</td>\n",
              "      <td>-0.307148</td>\n",
              "      <td>-0.280836</td>\n",
              "      <td>-0.279405</td>\n",
              "      <td>...</td>\n",
              "      <td>-0.584252</td>\n",
              "      <td>1.550405</td>\n",
              "      <td>1.247926</td>\n",
              "      <td>1.191932</td>\n",
              "      <td>1.202162</td>\n",
              "      <td>1.307777</td>\n",
              "      <td>1.02373</td>\n",
              "      <td>0.983583</td>\n",
              "      <td>0.929383</td>\n",
              "      <td>0.991758</td>\n",
              "    </tr>\n",
              "    <tr>\n",
              "      <th>1447</th>\n",
              "      <td>0.311927</td>\n",
              "      <td>0.634853</td>\n",
              "      <td>0.30667</td>\n",
              "      <td>1.836233</td>\n",
              "      <td>0.594463</td>\n",
              "      <td>0.996162</td>\n",
              "      <td>0.400408</td>\n",
              "      <td>3.255764</td>\n",
              "      <td>-0.280836</td>\n",
              "      <td>-0.279405</td>\n",
              "      <td>...</td>\n",
              "      <td>-0.584252</td>\n",
              "      <td>1.550405</td>\n",
              "      <td>-0.801330</td>\n",
              "      <td>1.191932</td>\n",
              "      <td>1.202162</td>\n",
              "      <td>1.307777</td>\n",
              "      <td>1.02373</td>\n",
              "      <td>0.983583</td>\n",
              "      <td>0.929383</td>\n",
              "      <td>0.991758</td>\n",
              "    </tr>\n",
              "    <tr>\n",
              "      <th>1448</th>\n",
              "      <td>-0.200561</td>\n",
              "      <td>-0.163877</td>\n",
              "      <td>-0.85701</td>\n",
              "      <td>1.836233</td>\n",
              "      <td>-0.827932</td>\n",
              "      <td>0.996162</td>\n",
              "      <td>-1.292772</td>\n",
              "      <td>-0.307148</td>\n",
              "      <td>-0.280836</td>\n",
              "      <td>-0.279405</td>\n",
              "      <td>...</td>\n",
              "      <td>-0.584252</td>\n",
              "      <td>-0.644993</td>\n",
              "      <td>-0.801330</td>\n",
              "      <td>-0.838974</td>\n",
              "      <td>-0.831835</td>\n",
              "      <td>1.307777</td>\n",
              "      <td>-0.97682</td>\n",
              "      <td>-1.016691</td>\n",
              "      <td>-1.075982</td>\n",
              "      <td>-1.008310</td>\n",
              "    </tr>\n",
              "    <tr>\n",
              "      <th>1449</th>\n",
              "      <td>-0.386920</td>\n",
              "      <td>-1.361972</td>\n",
              "      <td>1.17943</td>\n",
              "      <td>0.979946</td>\n",
              "      <td>1.226638</td>\n",
              "      <td>0.394001</td>\n",
              "      <td>-0.615500</td>\n",
              "      <td>3.255764</td>\n",
              "      <td>-0.280836</td>\n",
              "      <td>-0.279405</td>\n",
              "      <td>...</td>\n",
              "      <td>1.711590</td>\n",
              "      <td>-0.644993</td>\n",
              "      <td>-0.801330</td>\n",
              "      <td>-0.838974</td>\n",
              "      <td>-0.831835</td>\n",
              "      <td>1.307777</td>\n",
              "      <td>-0.97682</td>\n",
              "      <td>-1.016691</td>\n",
              "      <td>0.929383</td>\n",
              "      <td>0.991758</td>\n",
              "    </tr>\n",
              "  </tbody>\n",
              "</table>\n",
              "<p>1450 rows × 57 columns</p>\n",
              "</div>\n",
              "      <button class=\"colab-df-convert\" onclick=\"convertToInteractive('df-8cfb2dbd-e256-4a42-b5a9-bdf3deaf7eb9')\"\n",
              "              title=\"Convert this dataframe to an interactive table.\"\n",
              "              style=\"display:none;\">\n",
              "        \n",
              "  <svg xmlns=\"http://www.w3.org/2000/svg\" height=\"24px\"viewBox=\"0 0 24 24\"\n",
              "       width=\"24px\">\n",
              "    <path d=\"M0 0h24v24H0V0z\" fill=\"none\"/>\n",
              "    <path d=\"M18.56 5.44l.94 2.06.94-2.06 2.06-.94-2.06-.94-.94-2.06-.94 2.06-2.06.94zm-11 1L8.5 8.5l.94-2.06 2.06-.94-2.06-.94L8.5 2.5l-.94 2.06-2.06.94zm10 10l.94 2.06.94-2.06 2.06-.94-2.06-.94-.94-2.06-.94 2.06-2.06.94z\"/><path d=\"M17.41 7.96l-1.37-1.37c-.4-.4-.92-.59-1.43-.59-.52 0-1.04.2-1.43.59L10.3 9.45l-7.72 7.72c-.78.78-.78 2.05 0 2.83L4 21.41c.39.39.9.59 1.41.59.51 0 1.02-.2 1.41-.59l7.78-7.78 2.81-2.81c.8-.78.8-2.07 0-2.86zM5.41 20L4 18.59l7.72-7.72 1.47 1.35L5.41 20z\"/>\n",
              "  </svg>\n",
              "      </button>\n",
              "      \n",
              "  <style>\n",
              "    .colab-df-container {\n",
              "      display:flex;\n",
              "      flex-wrap:wrap;\n",
              "      gap: 12px;\n",
              "    }\n",
              "\n",
              "    .colab-df-convert {\n",
              "      background-color: #E8F0FE;\n",
              "      border: none;\n",
              "      border-radius: 50%;\n",
              "      cursor: pointer;\n",
              "      display: none;\n",
              "      fill: #1967D2;\n",
              "      height: 32px;\n",
              "      padding: 0 0 0 0;\n",
              "      width: 32px;\n",
              "    }\n",
              "\n",
              "    .colab-df-convert:hover {\n",
              "      background-color: #E2EBFA;\n",
              "      box-shadow: 0px 1px 2px rgba(60, 64, 67, 0.3), 0px 1px 3px 1px rgba(60, 64, 67, 0.15);\n",
              "      fill: #174EA6;\n",
              "    }\n",
              "\n",
              "    [theme=dark] .colab-df-convert {\n",
              "      background-color: #3B4455;\n",
              "      fill: #D2E3FC;\n",
              "    }\n",
              "\n",
              "    [theme=dark] .colab-df-convert:hover {\n",
              "      background-color: #434B5C;\n",
              "      box-shadow: 0px 1px 3px 1px rgba(0, 0, 0, 0.15);\n",
              "      filter: drop-shadow(0px 1px 2px rgba(0, 0, 0, 0.3));\n",
              "      fill: #FFFFFF;\n",
              "    }\n",
              "  </style>\n",
              "\n",
              "      <script>\n",
              "        const buttonEl =\n",
              "          document.querySelector('#df-8cfb2dbd-e256-4a42-b5a9-bdf3deaf7eb9 button.colab-df-convert');\n",
              "        buttonEl.style.display =\n",
              "          google.colab.kernel.accessAllowed ? 'block' : 'none';\n",
              "\n",
              "        async function convertToInteractive(key) {\n",
              "          const element = document.querySelector('#df-8cfb2dbd-e256-4a42-b5a9-bdf3deaf7eb9');\n",
              "          const dataTable =\n",
              "            await google.colab.kernel.invokeFunction('convertToInteractive',\n",
              "                                                     [key], {});\n",
              "          if (!dataTable) return;\n",
              "\n",
              "          const docLinkHtml = 'Like what you see? Visit the ' +\n",
              "            '<a target=\"_blank\" href=https://colab.research.google.com/notebooks/data_table.ipynb>data table notebook</a>'\n",
              "            + ' to learn more about interactive tables.';\n",
              "          element.innerHTML = '';\n",
              "          dataTable['output_type'] = 'display_data';\n",
              "          await google.colab.output.renderOutput(dataTable, element);\n",
              "          const docLink = document.createElement('div');\n",
              "          docLink.innerHTML = docLinkHtml;\n",
              "          element.appendChild(docLink);\n",
              "        }\n",
              "      </script>\n",
              "    </div>\n",
              "  </div>\n",
              "  "
            ]
          },
          "metadata": {},
          "execution_count": 88
        }
      ]
    },
    {
      "cell_type": "markdown",
      "source": [
        "## 3.Strukturyzacja danych tekstowych"
      ],
      "metadata": {
        "id": "raloo8juWDbJ"
      }
    },
    {
      "cell_type": "code",
      "source": [
        "def merge_for_more_info(df, list_of_cols, col_y=dane['wydawnictwo']):\n",
        "  result = []\n",
        "  y = []\n",
        "  for i in range(len(df)):\n",
        "    temp = ''\n",
        "    for col in list_of_cols:\n",
        "      temp = temp + ' ' + str(df[col][i])\n",
        "    result.append(temp)\n",
        "    y.append(str(col_y[i]))\n",
        "  return pd.DataFrame(result, columns=['text_to_classification']), pd.Series(y)\n"
      ],
      "metadata": {
        "id": "KmOo3lnfTDrE"
      },
      "execution_count": 89,
      "outputs": []
    },
    {
      "cell_type": "code",
      "source": [
        "df_text = dane_dod[text_cols]"
      ],
      "metadata": {
        "id": "0Cibvdl3UxN4"
      },
      "execution_count": 90,
      "outputs": []
    },
    {
      "cell_type": "code",
      "source": [
        "X_dod, y_dod = merge_for_more_info(df_text, text_cols)"
      ],
      "metadata": {
        "id": "bflmze51T_Ja"
      },
      "execution_count": 91,
      "outputs": []
    },
    {
      "cell_type": "code",
      "source": [
        "X_dod['text_to_classification'][0]"
      ],
      "metadata": {
        "colab": {
          "base_uri": "https://localhost:8080/",
          "height": 87
        },
        "id": "eA9iUIzQU5ZP",
        "outputId": "2882fe6c-4111-48c0-c8bf-6a4bc20b4b3c"
      },
      "execution_count": 92,
      "outputs": [
        {
          "output_type": "execute_result",
          "data": {
            "text/plain": [
              "\" Delroy Garrett, Jr. grew up to become a track star and competed in the Olympic Games. After he tested positive for steroids, he lost his three gold medals. In despair, he turned to religion, specifically the Triune Understanding. This group's founder, Jonathan Tremont, had found one of three fragments of a mysterious object and used it to give Garrett the powers of 3-D Man. Garrett assumed that his powers were because of his newfound spiritual enlightenment, and Tremont never disabused him of the notion. 0 ['Super Speed', 'Super Strength'] [] [''] 0 0 Good 0 0 ['Annihilators', 'Asgardians', 'Avengers', 'New Avengers'] 0 Male Human 0 0 0 0 0\""
            ],
            "application/vnd.google.colaboratory.intrinsic+json": {
              "type": "string"
            }
          },
          "metadata": {},
          "execution_count": 92
        }
      ]
    },
    {
      "cell_type": "code",
      "source": [
        "X_dod = X_dod.text_to_classification.apply(preprocess)"
      ],
      "metadata": {
        "id": "j6comsZnVvXs"
      },
      "execution_count": 93,
      "outputs": []
    },
    {
      "cell_type": "code",
      "source": [
        "X_dod"
      ],
      "metadata": {
        "colab": {
          "base_uri": "https://localhost:8080/"
        },
        "id": "dVZm0FRcWcVy",
        "outputId": "516f1441-8b82-4a68-adaf-72887194bd82"
      },
      "execution_count": 94,
      "outputs": [
        {
          "output_type": "execute_result",
          "data": {
            "text/plain": [
              "0       [delroy, garrett, jr , grew, become, track, st...\n",
              "1       [one, many, prisoner, indian, hill, transferre...\n",
              "2       [richard, rick, jones, orphaned, young, age, e...\n",
              "3       [one, passive, member, pumice, people, race, s...\n",
              "4       [aaron, cash, head, security, arkham, asylum, ...\n",
              "                              ...                        \n",
              "1445    [zatanna, daughter, adventurer, john, zatara, ...\n",
              "1446    [zero, created, late, dr , albert, wily, somet...\n",
              "1447    [hunter, zolomon, better, known, zoom, speedst...\n",
              "1448    [hunter, zolomon, troubled, relationship, pare...\n",
              "1449    [zzzax, product, accident, occurred, consolida...\n",
              "Name: text_to_classification, Length: 1450, dtype: object"
            ]
          },
          "metadata": {},
          "execution_count": 94
        }
      ]
    },
    {
      "cell_type": "code",
      "source": [
        "train_index = list(x_train.index)\n",
        "test_index = list(x_test.index)"
      ],
      "metadata": {
        "id": "XpZmePCgXe5g"
      },
      "execution_count": 95,
      "outputs": []
    },
    {
      "cell_type": "code",
      "source": [
        "X_train_dod_text = X_dod.iloc[train_index]\n",
        "X_test_dod_text = X_dod.iloc[test_index]\n",
        "\n",
        "y_train_dod = y_dod.iloc[train_index]\n",
        "y_test_dod = y_dod.iloc[test_index]"
      ],
      "metadata": {
        "id": "KCOhEF6lX0Zr"
      },
      "execution_count": 96,
      "outputs": []
    },
    {
      "cell_type": "code",
      "source": [
        "vectorizer_tfidf = TfidfVectorizer()\n",
        "\n",
        "X_train_dod_text_tfidf = pd.DataFrame(vectorizer_tfidf.fit_transform(X_train_dod_text.astype(str)).toarray())\n",
        "X_test_dod_text_tfidf = pd.DataFrame(vectorizer_tfidf.transform(X_test_dod_text.astype(str)).toarray())\n",
        "\n",
        "X_train_dod_text_tfidf = X_train_dod_text_tfidf.set_axis(train_index)\n",
        "X_test_dod_text_tfidf = X_test_dod_text_tfidf.set_axis(test_index)"
      ],
      "metadata": {
        "id": "vI81p77eY9l3"
      },
      "execution_count": 97,
      "outputs": []
    },
    {
      "cell_type": "code",
      "source": [
        "X_train_dod_text_tfidf.shape, X_test_dod_text_tfidf.shape"
      ],
      "metadata": {
        "colab": {
          "base_uri": "https://localhost:8080/"
        },
        "id": "Vz_XVeNbZJry",
        "outputId": "34179932-b7ff-4bce-f941-a50d74a7a3e9"
      },
      "execution_count": 98,
      "outputs": [
        {
          "output_type": "execute_result",
          "data": {
            "text/plain": [
              "((697, 21854), (299, 21854))"
            ]
          },
          "metadata": {},
          "execution_count": 98
        }
      ]
    },
    {
      "cell_type": "markdown",
      "source": [
        "## 4. Złączenie danych tekstowych z numerycznymi"
      ],
      "metadata": {
        "id": "ckSG6zBFZEqp"
      }
    },
    {
      "cell_type": "code",
      "source": [
        "X_train_dod_num = df_num_standarized.iloc[train_index]\n",
        "X_test_dod_num = df_num_standarized.iloc[test_index]"
      ],
      "metadata": {
        "id": "9RyFbdRiZQHh"
      },
      "execution_count": 99,
      "outputs": []
    },
    {
      "cell_type": "code",
      "source": [
        "X_train_dod_text_tfidf"
      ],
      "metadata": {
        "colab": {
          "base_uri": "https://localhost:8080/",
          "height": 424
        },
        "id": "S0fyUgMVbdvk",
        "outputId": "163b3af5-ac3a-4458-ad32-5dd46c8ab908"
      },
      "execution_count": 100,
      "outputs": [
        {
          "output_type": "execute_result",
          "data": {
            "text/plain": [
              "     0      1      2      3      4      5      6      7      8      9      \\\n",
              "834    0.0    0.0    0.0    0.0    0.0    0.0    0.0    0.0    0.0    0.0   \n",
              "277    0.0    0.0    0.0    0.0    0.0    0.0    0.0    0.0    0.0    0.0   \n",
              "15     0.0    0.0    0.0    0.0    0.0    0.0    0.0    0.0    0.0    0.0   \n",
              "927    0.0    0.0    0.0    0.0    0.0    0.0    0.0    0.0    0.0    0.0   \n",
              "177    0.0    0.0    0.0    0.0    0.0    0.0    0.0    0.0    0.0    0.0   \n",
              "..     ...    ...    ...    ...    ...    ...    ...    ...    ...    ...   \n",
              "723    0.0    0.0    0.0    0.0    0.0    0.0    0.0    0.0    0.0    0.0   \n",
              "671    0.0    0.0    0.0    0.0    0.0    0.0    0.0    0.0    0.0    0.0   \n",
              "464    0.0    0.0    0.0    0.0    0.0    0.0    0.0    0.0    0.0    0.0   \n",
              "833    0.0    0.0    0.0    0.0    0.0    0.0    0.0    0.0    0.0    0.0   \n",
              "93     0.0    0.0    0.0    0.0    0.0    0.0    0.0    0.0    0.0    0.0   \n",
              "\n",
              "     ...  21844  21845  21846  21847  21848  21849  21850  21851  21852  21853  \n",
              "834  ...    0.0    0.0    0.0    0.0    0.0    0.0    0.0    0.0    0.0    0.0  \n",
              "277  ...    0.0    0.0    0.0    0.0    0.0    0.0    0.0    0.0    0.0    0.0  \n",
              "15   ...    0.0    0.0    0.0    0.0    0.0    0.0    0.0    0.0    0.0    0.0  \n",
              "927  ...    0.0    0.0    0.0    0.0    0.0    0.0    0.0    0.0    0.0    0.0  \n",
              "177  ...    0.0    0.0    0.0    0.0    0.0    0.0    0.0    0.0    0.0    0.0  \n",
              "..   ...    ...    ...    ...    ...    ...    ...    ...    ...    ...    ...  \n",
              "723  ...    0.0    0.0    0.0    0.0    0.0    0.0    0.0    0.0    0.0    0.0  \n",
              "671  ...    0.0    0.0    0.0    0.0    0.0    0.0    0.0    0.0    0.0    0.0  \n",
              "464  ...    0.0    0.0    0.0    0.0    0.0    0.0    0.0    0.0    0.0    0.0  \n",
              "833  ...    0.0    0.0    0.0    0.0    0.0    0.0    0.0    0.0    0.0    0.0  \n",
              "93   ...    0.0    0.0    0.0    0.0    0.0    0.0    0.0    0.0    0.0    0.0  \n",
              "\n",
              "[697 rows x 21854 columns]"
            ],
            "text/html": [
              "\n",
              "  <div id=\"df-f6a66a8b-a4fd-448e-827d-825714313d93\">\n",
              "    <div class=\"colab-df-container\">\n",
              "      <div>\n",
              "<style scoped>\n",
              "    .dataframe tbody tr th:only-of-type {\n",
              "        vertical-align: middle;\n",
              "    }\n",
              "\n",
              "    .dataframe tbody tr th {\n",
              "        vertical-align: top;\n",
              "    }\n",
              "\n",
              "    .dataframe thead th {\n",
              "        text-align: right;\n",
              "    }\n",
              "</style>\n",
              "<table border=\"1\" class=\"dataframe\">\n",
              "  <thead>\n",
              "    <tr style=\"text-align: right;\">\n",
              "      <th></th>\n",
              "      <th>0</th>\n",
              "      <th>1</th>\n",
              "      <th>2</th>\n",
              "      <th>3</th>\n",
              "      <th>4</th>\n",
              "      <th>5</th>\n",
              "      <th>6</th>\n",
              "      <th>7</th>\n",
              "      <th>8</th>\n",
              "      <th>9</th>\n",
              "      <th>...</th>\n",
              "      <th>21844</th>\n",
              "      <th>21845</th>\n",
              "      <th>21846</th>\n",
              "      <th>21847</th>\n",
              "      <th>21848</th>\n",
              "      <th>21849</th>\n",
              "      <th>21850</th>\n",
              "      <th>21851</th>\n",
              "      <th>21852</th>\n",
              "      <th>21853</th>\n",
              "    </tr>\n",
              "  </thead>\n",
              "  <tbody>\n",
              "    <tr>\n",
              "      <th>834</th>\n",
              "      <td>0.0</td>\n",
              "      <td>0.0</td>\n",
              "      <td>0.0</td>\n",
              "      <td>0.0</td>\n",
              "      <td>0.0</td>\n",
              "      <td>0.0</td>\n",
              "      <td>0.0</td>\n",
              "      <td>0.0</td>\n",
              "      <td>0.0</td>\n",
              "      <td>0.0</td>\n",
              "      <td>...</td>\n",
              "      <td>0.0</td>\n",
              "      <td>0.0</td>\n",
              "      <td>0.0</td>\n",
              "      <td>0.0</td>\n",
              "      <td>0.0</td>\n",
              "      <td>0.0</td>\n",
              "      <td>0.0</td>\n",
              "      <td>0.0</td>\n",
              "      <td>0.0</td>\n",
              "      <td>0.0</td>\n",
              "    </tr>\n",
              "    <tr>\n",
              "      <th>277</th>\n",
              "      <td>0.0</td>\n",
              "      <td>0.0</td>\n",
              "      <td>0.0</td>\n",
              "      <td>0.0</td>\n",
              "      <td>0.0</td>\n",
              "      <td>0.0</td>\n",
              "      <td>0.0</td>\n",
              "      <td>0.0</td>\n",
              "      <td>0.0</td>\n",
              "      <td>0.0</td>\n",
              "      <td>...</td>\n",
              "      <td>0.0</td>\n",
              "      <td>0.0</td>\n",
              "      <td>0.0</td>\n",
              "      <td>0.0</td>\n",
              "      <td>0.0</td>\n",
              "      <td>0.0</td>\n",
              "      <td>0.0</td>\n",
              "      <td>0.0</td>\n",
              "      <td>0.0</td>\n",
              "      <td>0.0</td>\n",
              "    </tr>\n",
              "    <tr>\n",
              "      <th>15</th>\n",
              "      <td>0.0</td>\n",
              "      <td>0.0</td>\n",
              "      <td>0.0</td>\n",
              "      <td>0.0</td>\n",
              "      <td>0.0</td>\n",
              "      <td>0.0</td>\n",
              "      <td>0.0</td>\n",
              "      <td>0.0</td>\n",
              "      <td>0.0</td>\n",
              "      <td>0.0</td>\n",
              "      <td>...</td>\n",
              "      <td>0.0</td>\n",
              "      <td>0.0</td>\n",
              "      <td>0.0</td>\n",
              "      <td>0.0</td>\n",
              "      <td>0.0</td>\n",
              "      <td>0.0</td>\n",
              "      <td>0.0</td>\n",
              "      <td>0.0</td>\n",
              "      <td>0.0</td>\n",
              "      <td>0.0</td>\n",
              "    </tr>\n",
              "    <tr>\n",
              "      <th>927</th>\n",
              "      <td>0.0</td>\n",
              "      <td>0.0</td>\n",
              "      <td>0.0</td>\n",
              "      <td>0.0</td>\n",
              "      <td>0.0</td>\n",
              "      <td>0.0</td>\n",
              "      <td>0.0</td>\n",
              "      <td>0.0</td>\n",
              "      <td>0.0</td>\n",
              "      <td>0.0</td>\n",
              "      <td>...</td>\n",
              "      <td>0.0</td>\n",
              "      <td>0.0</td>\n",
              "      <td>0.0</td>\n",
              "      <td>0.0</td>\n",
              "      <td>0.0</td>\n",
              "      <td>0.0</td>\n",
              "      <td>0.0</td>\n",
              "      <td>0.0</td>\n",
              "      <td>0.0</td>\n",
              "      <td>0.0</td>\n",
              "    </tr>\n",
              "    <tr>\n",
              "      <th>177</th>\n",
              "      <td>0.0</td>\n",
              "      <td>0.0</td>\n",
              "      <td>0.0</td>\n",
              "      <td>0.0</td>\n",
              "      <td>0.0</td>\n",
              "      <td>0.0</td>\n",
              "      <td>0.0</td>\n",
              "      <td>0.0</td>\n",
              "      <td>0.0</td>\n",
              "      <td>0.0</td>\n",
              "      <td>...</td>\n",
              "      <td>0.0</td>\n",
              "      <td>0.0</td>\n",
              "      <td>0.0</td>\n",
              "      <td>0.0</td>\n",
              "      <td>0.0</td>\n",
              "      <td>0.0</td>\n",
              "      <td>0.0</td>\n",
              "      <td>0.0</td>\n",
              "      <td>0.0</td>\n",
              "      <td>0.0</td>\n",
              "    </tr>\n",
              "    <tr>\n",
              "      <th>...</th>\n",
              "      <td>...</td>\n",
              "      <td>...</td>\n",
              "      <td>...</td>\n",
              "      <td>...</td>\n",
              "      <td>...</td>\n",
              "      <td>...</td>\n",
              "      <td>...</td>\n",
              "      <td>...</td>\n",
              "      <td>...</td>\n",
              "      <td>...</td>\n",
              "      <td>...</td>\n",
              "      <td>...</td>\n",
              "      <td>...</td>\n",
              "      <td>...</td>\n",
              "      <td>...</td>\n",
              "      <td>...</td>\n",
              "      <td>...</td>\n",
              "      <td>...</td>\n",
              "      <td>...</td>\n",
              "      <td>...</td>\n",
              "      <td>...</td>\n",
              "    </tr>\n",
              "    <tr>\n",
              "      <th>723</th>\n",
              "      <td>0.0</td>\n",
              "      <td>0.0</td>\n",
              "      <td>0.0</td>\n",
              "      <td>0.0</td>\n",
              "      <td>0.0</td>\n",
              "      <td>0.0</td>\n",
              "      <td>0.0</td>\n",
              "      <td>0.0</td>\n",
              "      <td>0.0</td>\n",
              "      <td>0.0</td>\n",
              "      <td>...</td>\n",
              "      <td>0.0</td>\n",
              "      <td>0.0</td>\n",
              "      <td>0.0</td>\n",
              "      <td>0.0</td>\n",
              "      <td>0.0</td>\n",
              "      <td>0.0</td>\n",
              "      <td>0.0</td>\n",
              "      <td>0.0</td>\n",
              "      <td>0.0</td>\n",
              "      <td>0.0</td>\n",
              "    </tr>\n",
              "    <tr>\n",
              "      <th>671</th>\n",
              "      <td>0.0</td>\n",
              "      <td>0.0</td>\n",
              "      <td>0.0</td>\n",
              "      <td>0.0</td>\n",
              "      <td>0.0</td>\n",
              "      <td>0.0</td>\n",
              "      <td>0.0</td>\n",
              "      <td>0.0</td>\n",
              "      <td>0.0</td>\n",
              "      <td>0.0</td>\n",
              "      <td>...</td>\n",
              "      <td>0.0</td>\n",
              "      <td>0.0</td>\n",
              "      <td>0.0</td>\n",
              "      <td>0.0</td>\n",
              "      <td>0.0</td>\n",
              "      <td>0.0</td>\n",
              "      <td>0.0</td>\n",
              "      <td>0.0</td>\n",
              "      <td>0.0</td>\n",
              "      <td>0.0</td>\n",
              "    </tr>\n",
              "    <tr>\n",
              "      <th>464</th>\n",
              "      <td>0.0</td>\n",
              "      <td>0.0</td>\n",
              "      <td>0.0</td>\n",
              "      <td>0.0</td>\n",
              "      <td>0.0</td>\n",
              "      <td>0.0</td>\n",
              "      <td>0.0</td>\n",
              "      <td>0.0</td>\n",
              "      <td>0.0</td>\n",
              "      <td>0.0</td>\n",
              "      <td>...</td>\n",
              "      <td>0.0</td>\n",
              "      <td>0.0</td>\n",
              "      <td>0.0</td>\n",
              "      <td>0.0</td>\n",
              "      <td>0.0</td>\n",
              "      <td>0.0</td>\n",
              "      <td>0.0</td>\n",
              "      <td>0.0</td>\n",
              "      <td>0.0</td>\n",
              "      <td>0.0</td>\n",
              "    </tr>\n",
              "    <tr>\n",
              "      <th>833</th>\n",
              "      <td>0.0</td>\n",
              "      <td>0.0</td>\n",
              "      <td>0.0</td>\n",
              "      <td>0.0</td>\n",
              "      <td>0.0</td>\n",
              "      <td>0.0</td>\n",
              "      <td>0.0</td>\n",
              "      <td>0.0</td>\n",
              "      <td>0.0</td>\n",
              "      <td>0.0</td>\n",
              "      <td>...</td>\n",
              "      <td>0.0</td>\n",
              "      <td>0.0</td>\n",
              "      <td>0.0</td>\n",
              "      <td>0.0</td>\n",
              "      <td>0.0</td>\n",
              "      <td>0.0</td>\n",
              "      <td>0.0</td>\n",
              "      <td>0.0</td>\n",
              "      <td>0.0</td>\n",
              "      <td>0.0</td>\n",
              "    </tr>\n",
              "    <tr>\n",
              "      <th>93</th>\n",
              "      <td>0.0</td>\n",
              "      <td>0.0</td>\n",
              "      <td>0.0</td>\n",
              "      <td>0.0</td>\n",
              "      <td>0.0</td>\n",
              "      <td>0.0</td>\n",
              "      <td>0.0</td>\n",
              "      <td>0.0</td>\n",
              "      <td>0.0</td>\n",
              "      <td>0.0</td>\n",
              "      <td>...</td>\n",
              "      <td>0.0</td>\n",
              "      <td>0.0</td>\n",
              "      <td>0.0</td>\n",
              "      <td>0.0</td>\n",
              "      <td>0.0</td>\n",
              "      <td>0.0</td>\n",
              "      <td>0.0</td>\n",
              "      <td>0.0</td>\n",
              "      <td>0.0</td>\n",
              "      <td>0.0</td>\n",
              "    </tr>\n",
              "  </tbody>\n",
              "</table>\n",
              "<p>697 rows × 21854 columns</p>\n",
              "</div>\n",
              "      <button class=\"colab-df-convert\" onclick=\"convertToInteractive('df-f6a66a8b-a4fd-448e-827d-825714313d93')\"\n",
              "              title=\"Convert this dataframe to an interactive table.\"\n",
              "              style=\"display:none;\">\n",
              "        \n",
              "  <svg xmlns=\"http://www.w3.org/2000/svg\" height=\"24px\"viewBox=\"0 0 24 24\"\n",
              "       width=\"24px\">\n",
              "    <path d=\"M0 0h24v24H0V0z\" fill=\"none\"/>\n",
              "    <path d=\"M18.56 5.44l.94 2.06.94-2.06 2.06-.94-2.06-.94-.94-2.06-.94 2.06-2.06.94zm-11 1L8.5 8.5l.94-2.06 2.06-.94-2.06-.94L8.5 2.5l-.94 2.06-2.06.94zm10 10l.94 2.06.94-2.06 2.06-.94-2.06-.94-.94-2.06-.94 2.06-2.06.94z\"/><path d=\"M17.41 7.96l-1.37-1.37c-.4-.4-.92-.59-1.43-.59-.52 0-1.04.2-1.43.59L10.3 9.45l-7.72 7.72c-.78.78-.78 2.05 0 2.83L4 21.41c.39.39.9.59 1.41.59.51 0 1.02-.2 1.41-.59l7.78-7.78 2.81-2.81c.8-.78.8-2.07 0-2.86zM5.41 20L4 18.59l7.72-7.72 1.47 1.35L5.41 20z\"/>\n",
              "  </svg>\n",
              "      </button>\n",
              "      \n",
              "  <style>\n",
              "    .colab-df-container {\n",
              "      display:flex;\n",
              "      flex-wrap:wrap;\n",
              "      gap: 12px;\n",
              "    }\n",
              "\n",
              "    .colab-df-convert {\n",
              "      background-color: #E8F0FE;\n",
              "      border: none;\n",
              "      border-radius: 50%;\n",
              "      cursor: pointer;\n",
              "      display: none;\n",
              "      fill: #1967D2;\n",
              "      height: 32px;\n",
              "      padding: 0 0 0 0;\n",
              "      width: 32px;\n",
              "    }\n",
              "\n",
              "    .colab-df-convert:hover {\n",
              "      background-color: #E2EBFA;\n",
              "      box-shadow: 0px 1px 2px rgba(60, 64, 67, 0.3), 0px 1px 3px 1px rgba(60, 64, 67, 0.15);\n",
              "      fill: #174EA6;\n",
              "    }\n",
              "\n",
              "    [theme=dark] .colab-df-convert {\n",
              "      background-color: #3B4455;\n",
              "      fill: #D2E3FC;\n",
              "    }\n",
              "\n",
              "    [theme=dark] .colab-df-convert:hover {\n",
              "      background-color: #434B5C;\n",
              "      box-shadow: 0px 1px 3px 1px rgba(0, 0, 0, 0.15);\n",
              "      filter: drop-shadow(0px 1px 2px rgba(0, 0, 0, 0.3));\n",
              "      fill: #FFFFFF;\n",
              "    }\n",
              "  </style>\n",
              "\n",
              "      <script>\n",
              "        const buttonEl =\n",
              "          document.querySelector('#df-f6a66a8b-a4fd-448e-827d-825714313d93 button.colab-df-convert');\n",
              "        buttonEl.style.display =\n",
              "          google.colab.kernel.accessAllowed ? 'block' : 'none';\n",
              "\n",
              "        async function convertToInteractive(key) {\n",
              "          const element = document.querySelector('#df-f6a66a8b-a4fd-448e-827d-825714313d93');\n",
              "          const dataTable =\n",
              "            await google.colab.kernel.invokeFunction('convertToInteractive',\n",
              "                                                     [key], {});\n",
              "          if (!dataTable) return;\n",
              "\n",
              "          const docLinkHtml = 'Like what you see? Visit the ' +\n",
              "            '<a target=\"_blank\" href=https://colab.research.google.com/notebooks/data_table.ipynb>data table notebook</a>'\n",
              "            + ' to learn more about interactive tables.';\n",
              "          element.innerHTML = '';\n",
              "          dataTable['output_type'] = 'display_data';\n",
              "          await google.colab.output.renderOutput(dataTable, element);\n",
              "          const docLink = document.createElement('div');\n",
              "          docLink.innerHTML = docLinkHtml;\n",
              "          element.appendChild(docLink);\n",
              "        }\n",
              "      </script>\n",
              "    </div>\n",
              "  </div>\n",
              "  "
            ]
          },
          "metadata": {},
          "execution_count": 100
        }
      ]
    },
    {
      "cell_type": "code",
      "source": [
        "X_test_dod_num"
      ],
      "metadata": {
        "colab": {
          "base_uri": "https://localhost:8080/",
          "height": 488
        },
        "id": "nKw7vquUbaBy",
        "outputId": "b95e6458-4017-4e92-df81-f5fbbe316b1b"
      },
      "execution_count": 101,
      "outputs": [
        {
          "output_type": "execute_result",
          "data": {
            "text/plain": [
              "           0         1        2         3         4         5         6   \\\n",
              "849 -0.386920 -0.163877 -0.71155 -0.218855 -0.669888 -0.358702  0.061772   \n",
              "471  0.684645  0.235488 -0.85701 -0.903884  0.278375  0.996162  0.231090   \n",
              "11  -0.619869  0.834535  1.76127  1.836233  1.384682  0.996162  1.077680   \n",
              "195 -0.293741  0.435170 -0.27517 -0.047598 -0.037713 -0.810323  0.231090   \n",
              "644  0.684645  0.834535  1.76127  1.322461  1.384682  0.996162  0.569726   \n",
              "..        ...       ...      ...       ...       ...       ...       ...   \n",
              "30   0.078978 -0.163877  1.32489  1.836233  0.910550  0.996162 -0.954136   \n",
              "398 -0.619869 -3.159114 -1.14793 -1.588914 -1.776195 -2.014646 -2.308680   \n",
              "597  1.150543  0.834535  1.76127  1.493718  1.384682  0.996162  0.908362   \n",
              "494  1.895980  0.435170  1.17943 -1.075142  1.384682  0.996162 -0.615500   \n",
              "336  0.032388  0.235488  1.76127  1.322461  1.068594  0.996162  0.569726   \n",
              "\n",
              "           7         8         9   ...        47        48        49  \\\n",
              "849 -0.307148 -0.280836 -0.279405  ... -0.584252 -0.644993 -0.801330   \n",
              "471 -0.307148 -0.280836 -0.279405  ... -0.584252  1.550405 -0.801330   \n",
              "11  -0.307148 -0.280836 -0.279405  ...  1.711590 -0.644993 -0.801330   \n",
              "195 -0.307148 -0.280836 -0.279405  ... -0.584252 -0.644993  1.247926   \n",
              "644 -0.307148 -0.280836  3.579040  ... -0.584252  1.550405  1.247926   \n",
              "..        ...       ...       ...  ...       ...       ...       ...   \n",
              "30  -0.307148 -0.280836 -0.279405  ...  1.711590 -0.644993 -0.801330   \n",
              "398 -0.307148 -0.280836 -0.279405  ... -0.584252 -0.644993 -0.801330   \n",
              "597 -0.307148 -0.280836 -0.279405  ...  1.711590  1.550405  1.247926   \n",
              "494 -0.307148 -0.280836  3.579040  ...  1.711590 -0.644993 -0.801330   \n",
              "336 -0.307148 -0.280836 -0.279405  ... -0.584252 -0.644993  1.247926   \n",
              "\n",
              "           50        51        52       53        54        55        56  \n",
              "849 -0.838974 -0.831835 -0.764656  1.02373  0.983583 -1.075982 -1.008310  \n",
              "471  1.191932 -0.831835 -0.764656 -0.97682 -1.016691 -1.075982 -1.008310  \n",
              "11   1.191932 -0.831835  1.307777  1.02373  0.983583 -1.075982  0.991758  \n",
              "195 -0.838974 -0.831835  1.307777  1.02373 -1.016691 -1.075982  0.991758  \n",
              "644  1.191932  1.202162  1.307777  1.02373  0.983583  0.929383  0.991758  \n",
              "..        ...       ...       ...      ...       ...       ...       ...  \n",
              "30  -0.838974 -0.831835  1.307777 -0.97682 -1.016691 -1.075982  0.991758  \n",
              "398 -0.838974 -0.831835 -0.764656 -0.97682 -1.016691 -1.075982 -1.008310  \n",
              "597  1.191932 -0.831835  1.307777  1.02373  0.983583  0.929383  0.991758  \n",
              "494  1.191932 -0.831835  1.307777  1.02373  0.983583  0.929383  0.991758  \n",
              "336  1.191932  1.202162  1.307777  1.02373  0.983583  0.929383  0.991758  \n",
              "\n",
              "[299 rows x 57 columns]"
            ],
            "text/html": [
              "\n",
              "  <div id=\"df-a679abf7-8a02-4e4b-b019-73412c2bec31\">\n",
              "    <div class=\"colab-df-container\">\n",
              "      <div>\n",
              "<style scoped>\n",
              "    .dataframe tbody tr th:only-of-type {\n",
              "        vertical-align: middle;\n",
              "    }\n",
              "\n",
              "    .dataframe tbody tr th {\n",
              "        vertical-align: top;\n",
              "    }\n",
              "\n",
              "    .dataframe thead th {\n",
              "        text-align: right;\n",
              "    }\n",
              "</style>\n",
              "<table border=\"1\" class=\"dataframe\">\n",
              "  <thead>\n",
              "    <tr style=\"text-align: right;\">\n",
              "      <th></th>\n",
              "      <th>0</th>\n",
              "      <th>1</th>\n",
              "      <th>2</th>\n",
              "      <th>3</th>\n",
              "      <th>4</th>\n",
              "      <th>5</th>\n",
              "      <th>6</th>\n",
              "      <th>7</th>\n",
              "      <th>8</th>\n",
              "      <th>9</th>\n",
              "      <th>...</th>\n",
              "      <th>47</th>\n",
              "      <th>48</th>\n",
              "      <th>49</th>\n",
              "      <th>50</th>\n",
              "      <th>51</th>\n",
              "      <th>52</th>\n",
              "      <th>53</th>\n",
              "      <th>54</th>\n",
              "      <th>55</th>\n",
              "      <th>56</th>\n",
              "    </tr>\n",
              "  </thead>\n",
              "  <tbody>\n",
              "    <tr>\n",
              "      <th>849</th>\n",
              "      <td>-0.386920</td>\n",
              "      <td>-0.163877</td>\n",
              "      <td>-0.71155</td>\n",
              "      <td>-0.218855</td>\n",
              "      <td>-0.669888</td>\n",
              "      <td>-0.358702</td>\n",
              "      <td>0.061772</td>\n",
              "      <td>-0.307148</td>\n",
              "      <td>-0.280836</td>\n",
              "      <td>-0.279405</td>\n",
              "      <td>...</td>\n",
              "      <td>-0.584252</td>\n",
              "      <td>-0.644993</td>\n",
              "      <td>-0.801330</td>\n",
              "      <td>-0.838974</td>\n",
              "      <td>-0.831835</td>\n",
              "      <td>-0.764656</td>\n",
              "      <td>1.02373</td>\n",
              "      <td>0.983583</td>\n",
              "      <td>-1.075982</td>\n",
              "      <td>-1.008310</td>\n",
              "    </tr>\n",
              "    <tr>\n",
              "      <th>471</th>\n",
              "      <td>0.684645</td>\n",
              "      <td>0.235488</td>\n",
              "      <td>-0.85701</td>\n",
              "      <td>-0.903884</td>\n",
              "      <td>0.278375</td>\n",
              "      <td>0.996162</td>\n",
              "      <td>0.231090</td>\n",
              "      <td>-0.307148</td>\n",
              "      <td>-0.280836</td>\n",
              "      <td>-0.279405</td>\n",
              "      <td>...</td>\n",
              "      <td>-0.584252</td>\n",
              "      <td>1.550405</td>\n",
              "      <td>-0.801330</td>\n",
              "      <td>1.191932</td>\n",
              "      <td>-0.831835</td>\n",
              "      <td>-0.764656</td>\n",
              "      <td>-0.97682</td>\n",
              "      <td>-1.016691</td>\n",
              "      <td>-1.075982</td>\n",
              "      <td>-1.008310</td>\n",
              "    </tr>\n",
              "    <tr>\n",
              "      <th>11</th>\n",
              "      <td>-0.619869</td>\n",
              "      <td>0.834535</td>\n",
              "      <td>1.76127</td>\n",
              "      <td>1.836233</td>\n",
              "      <td>1.384682</td>\n",
              "      <td>0.996162</td>\n",
              "      <td>1.077680</td>\n",
              "      <td>-0.307148</td>\n",
              "      <td>-0.280836</td>\n",
              "      <td>-0.279405</td>\n",
              "      <td>...</td>\n",
              "      <td>1.711590</td>\n",
              "      <td>-0.644993</td>\n",
              "      <td>-0.801330</td>\n",
              "      <td>1.191932</td>\n",
              "      <td>-0.831835</td>\n",
              "      <td>1.307777</td>\n",
              "      <td>1.02373</td>\n",
              "      <td>0.983583</td>\n",
              "      <td>-1.075982</td>\n",
              "      <td>0.991758</td>\n",
              "    </tr>\n",
              "    <tr>\n",
              "      <th>195</th>\n",
              "      <td>-0.293741</td>\n",
              "      <td>0.435170</td>\n",
              "      <td>-0.27517</td>\n",
              "      <td>-0.047598</td>\n",
              "      <td>-0.037713</td>\n",
              "      <td>-0.810323</td>\n",
              "      <td>0.231090</td>\n",
              "      <td>-0.307148</td>\n",
              "      <td>-0.280836</td>\n",
              "      <td>-0.279405</td>\n",
              "      <td>...</td>\n",
              "      <td>-0.584252</td>\n",
              "      <td>-0.644993</td>\n",
              "      <td>1.247926</td>\n",
              "      <td>-0.838974</td>\n",
              "      <td>-0.831835</td>\n",
              "      <td>1.307777</td>\n",
              "      <td>1.02373</td>\n",
              "      <td>-1.016691</td>\n",
              "      <td>-1.075982</td>\n",
              "      <td>0.991758</td>\n",
              "    </tr>\n",
              "    <tr>\n",
              "      <th>644</th>\n",
              "      <td>0.684645</td>\n",
              "      <td>0.834535</td>\n",
              "      <td>1.76127</td>\n",
              "      <td>1.322461</td>\n",
              "      <td>1.384682</td>\n",
              "      <td>0.996162</td>\n",
              "      <td>0.569726</td>\n",
              "      <td>-0.307148</td>\n",
              "      <td>-0.280836</td>\n",
              "      <td>3.579040</td>\n",
              "      <td>...</td>\n",
              "      <td>-0.584252</td>\n",
              "      <td>1.550405</td>\n",
              "      <td>1.247926</td>\n",
              "      <td>1.191932</td>\n",
              "      <td>1.202162</td>\n",
              "      <td>1.307777</td>\n",
              "      <td>1.02373</td>\n",
              "      <td>0.983583</td>\n",
              "      <td>0.929383</td>\n",
              "      <td>0.991758</td>\n",
              "    </tr>\n",
              "    <tr>\n",
              "      <th>...</th>\n",
              "      <td>...</td>\n",
              "      <td>...</td>\n",
              "      <td>...</td>\n",
              "      <td>...</td>\n",
              "      <td>...</td>\n",
              "      <td>...</td>\n",
              "      <td>...</td>\n",
              "      <td>...</td>\n",
              "      <td>...</td>\n",
              "      <td>...</td>\n",
              "      <td>...</td>\n",
              "      <td>...</td>\n",
              "      <td>...</td>\n",
              "      <td>...</td>\n",
              "      <td>...</td>\n",
              "      <td>...</td>\n",
              "      <td>...</td>\n",
              "      <td>...</td>\n",
              "      <td>...</td>\n",
              "      <td>...</td>\n",
              "      <td>...</td>\n",
              "    </tr>\n",
              "    <tr>\n",
              "      <th>30</th>\n",
              "      <td>0.078978</td>\n",
              "      <td>-0.163877</td>\n",
              "      <td>1.32489</td>\n",
              "      <td>1.836233</td>\n",
              "      <td>0.910550</td>\n",
              "      <td>0.996162</td>\n",
              "      <td>-0.954136</td>\n",
              "      <td>-0.307148</td>\n",
              "      <td>-0.280836</td>\n",
              "      <td>-0.279405</td>\n",
              "      <td>...</td>\n",
              "      <td>1.711590</td>\n",
              "      <td>-0.644993</td>\n",
              "      <td>-0.801330</td>\n",
              "      <td>-0.838974</td>\n",
              "      <td>-0.831835</td>\n",
              "      <td>1.307777</td>\n",
              "      <td>-0.97682</td>\n",
              "      <td>-1.016691</td>\n",
              "      <td>-1.075982</td>\n",
              "      <td>0.991758</td>\n",
              "    </tr>\n",
              "    <tr>\n",
              "      <th>398</th>\n",
              "      <td>-0.619869</td>\n",
              "      <td>-3.159114</td>\n",
              "      <td>-1.14793</td>\n",
              "      <td>-1.588914</td>\n",
              "      <td>-1.776195</td>\n",
              "      <td>-2.014646</td>\n",
              "      <td>-2.308680</td>\n",
              "      <td>-0.307148</td>\n",
              "      <td>-0.280836</td>\n",
              "      <td>-0.279405</td>\n",
              "      <td>...</td>\n",
              "      <td>-0.584252</td>\n",
              "      <td>-0.644993</td>\n",
              "      <td>-0.801330</td>\n",
              "      <td>-0.838974</td>\n",
              "      <td>-0.831835</td>\n",
              "      <td>-0.764656</td>\n",
              "      <td>-0.97682</td>\n",
              "      <td>-1.016691</td>\n",
              "      <td>-1.075982</td>\n",
              "      <td>-1.008310</td>\n",
              "    </tr>\n",
              "    <tr>\n",
              "      <th>597</th>\n",
              "      <td>1.150543</td>\n",
              "      <td>0.834535</td>\n",
              "      <td>1.76127</td>\n",
              "      <td>1.493718</td>\n",
              "      <td>1.384682</td>\n",
              "      <td>0.996162</td>\n",
              "      <td>0.908362</td>\n",
              "      <td>-0.307148</td>\n",
              "      <td>-0.280836</td>\n",
              "      <td>-0.279405</td>\n",
              "      <td>...</td>\n",
              "      <td>1.711590</td>\n",
              "      <td>1.550405</td>\n",
              "      <td>1.247926</td>\n",
              "      <td>1.191932</td>\n",
              "      <td>-0.831835</td>\n",
              "      <td>1.307777</td>\n",
              "      <td>1.02373</td>\n",
              "      <td>0.983583</td>\n",
              "      <td>0.929383</td>\n",
              "      <td>0.991758</td>\n",
              "    </tr>\n",
              "    <tr>\n",
              "      <th>494</th>\n",
              "      <td>1.895980</td>\n",
              "      <td>0.435170</td>\n",
              "      <td>1.17943</td>\n",
              "      <td>-1.075142</td>\n",
              "      <td>1.384682</td>\n",
              "      <td>0.996162</td>\n",
              "      <td>-0.615500</td>\n",
              "      <td>-0.307148</td>\n",
              "      <td>-0.280836</td>\n",
              "      <td>3.579040</td>\n",
              "      <td>...</td>\n",
              "      <td>1.711590</td>\n",
              "      <td>-0.644993</td>\n",
              "      <td>-0.801330</td>\n",
              "      <td>1.191932</td>\n",
              "      <td>-0.831835</td>\n",
              "      <td>1.307777</td>\n",
              "      <td>1.02373</td>\n",
              "      <td>0.983583</td>\n",
              "      <td>0.929383</td>\n",
              "      <td>0.991758</td>\n",
              "    </tr>\n",
              "    <tr>\n",
              "      <th>336</th>\n",
              "      <td>0.032388</td>\n",
              "      <td>0.235488</td>\n",
              "      <td>1.76127</td>\n",
              "      <td>1.322461</td>\n",
              "      <td>1.068594</td>\n",
              "      <td>0.996162</td>\n",
              "      <td>0.569726</td>\n",
              "      <td>-0.307148</td>\n",
              "      <td>-0.280836</td>\n",
              "      <td>-0.279405</td>\n",
              "      <td>...</td>\n",
              "      <td>-0.584252</td>\n",
              "      <td>-0.644993</td>\n",
              "      <td>1.247926</td>\n",
              "      <td>1.191932</td>\n",
              "      <td>1.202162</td>\n",
              "      <td>1.307777</td>\n",
              "      <td>1.02373</td>\n",
              "      <td>0.983583</td>\n",
              "      <td>0.929383</td>\n",
              "      <td>0.991758</td>\n",
              "    </tr>\n",
              "  </tbody>\n",
              "</table>\n",
              "<p>299 rows × 57 columns</p>\n",
              "</div>\n",
              "      <button class=\"colab-df-convert\" onclick=\"convertToInteractive('df-a679abf7-8a02-4e4b-b019-73412c2bec31')\"\n",
              "              title=\"Convert this dataframe to an interactive table.\"\n",
              "              style=\"display:none;\">\n",
              "        \n",
              "  <svg xmlns=\"http://www.w3.org/2000/svg\" height=\"24px\"viewBox=\"0 0 24 24\"\n",
              "       width=\"24px\">\n",
              "    <path d=\"M0 0h24v24H0V0z\" fill=\"none\"/>\n",
              "    <path d=\"M18.56 5.44l.94 2.06.94-2.06 2.06-.94-2.06-.94-.94-2.06-.94 2.06-2.06.94zm-11 1L8.5 8.5l.94-2.06 2.06-.94-2.06-.94L8.5 2.5l-.94 2.06-2.06.94zm10 10l.94 2.06.94-2.06 2.06-.94-2.06-.94-.94-2.06-.94 2.06-2.06.94z\"/><path d=\"M17.41 7.96l-1.37-1.37c-.4-.4-.92-.59-1.43-.59-.52 0-1.04.2-1.43.59L10.3 9.45l-7.72 7.72c-.78.78-.78 2.05 0 2.83L4 21.41c.39.39.9.59 1.41.59.51 0 1.02-.2 1.41-.59l7.78-7.78 2.81-2.81c.8-.78.8-2.07 0-2.86zM5.41 20L4 18.59l7.72-7.72 1.47 1.35L5.41 20z\"/>\n",
              "  </svg>\n",
              "      </button>\n",
              "      \n",
              "  <style>\n",
              "    .colab-df-container {\n",
              "      display:flex;\n",
              "      flex-wrap:wrap;\n",
              "      gap: 12px;\n",
              "    }\n",
              "\n",
              "    .colab-df-convert {\n",
              "      background-color: #E8F0FE;\n",
              "      border: none;\n",
              "      border-radius: 50%;\n",
              "      cursor: pointer;\n",
              "      display: none;\n",
              "      fill: #1967D2;\n",
              "      height: 32px;\n",
              "      padding: 0 0 0 0;\n",
              "      width: 32px;\n",
              "    }\n",
              "\n",
              "    .colab-df-convert:hover {\n",
              "      background-color: #E2EBFA;\n",
              "      box-shadow: 0px 1px 2px rgba(60, 64, 67, 0.3), 0px 1px 3px 1px rgba(60, 64, 67, 0.15);\n",
              "      fill: #174EA6;\n",
              "    }\n",
              "\n",
              "    [theme=dark] .colab-df-convert {\n",
              "      background-color: #3B4455;\n",
              "      fill: #D2E3FC;\n",
              "    }\n",
              "\n",
              "    [theme=dark] .colab-df-convert:hover {\n",
              "      background-color: #434B5C;\n",
              "      box-shadow: 0px 1px 3px 1px rgba(0, 0, 0, 0.15);\n",
              "      filter: drop-shadow(0px 1px 2px rgba(0, 0, 0, 0.3));\n",
              "      fill: #FFFFFF;\n",
              "    }\n",
              "  </style>\n",
              "\n",
              "      <script>\n",
              "        const buttonEl =\n",
              "          document.querySelector('#df-a679abf7-8a02-4e4b-b019-73412c2bec31 button.colab-df-convert');\n",
              "        buttonEl.style.display =\n",
              "          google.colab.kernel.accessAllowed ? 'block' : 'none';\n",
              "\n",
              "        async function convertToInteractive(key) {\n",
              "          const element = document.querySelector('#df-a679abf7-8a02-4e4b-b019-73412c2bec31');\n",
              "          const dataTable =\n",
              "            await google.colab.kernel.invokeFunction('convertToInteractive',\n",
              "                                                     [key], {});\n",
              "          if (!dataTable) return;\n",
              "\n",
              "          const docLinkHtml = 'Like what you see? Visit the ' +\n",
              "            '<a target=\"_blank\" href=https://colab.research.google.com/notebooks/data_table.ipynb>data table notebook</a>'\n",
              "            + ' to learn more about interactive tables.';\n",
              "          element.innerHTML = '';\n",
              "          dataTable['output_type'] = 'display_data';\n",
              "          await google.colab.output.renderOutput(dataTable, element);\n",
              "          const docLink = document.createElement('div');\n",
              "          docLink.innerHTML = docLinkHtml;\n",
              "          element.appendChild(docLink);\n",
              "        }\n",
              "      </script>\n",
              "    </div>\n",
              "  </div>\n",
              "  "
            ]
          },
          "metadata": {},
          "execution_count": 101
        }
      ]
    },
    {
      "cell_type": "code",
      "source": [
        "X_train_dod_all = pd.concat([X_train_dod_num, X_train_dod_text_tfidf], axis=1)\n",
        "X_test_dod_all = pd.concat([X_test_dod_num, X_test_dod_text_tfidf], axis=1)\n"
      ],
      "metadata": {
        "id": "ClPlf_DAZ1t0"
      },
      "execution_count": 102,
      "outputs": []
    },
    {
      "cell_type": "code",
      "source": [
        "X_train_dod_all.to_csv('X_train_all.csv', sep=';')\n",
        "X_train_dod_all.to_csv('X_test_all.csv', sep = ';')"
      ],
      "metadata": {
        "id": "S2-9AoHUeHSE"
      },
      "execution_count": 103,
      "outputs": []
    },
    {
      "cell_type": "markdown",
      "source": [
        "## 5. Naiwny klasyfikator Bayesowski"
      ],
      "metadata": {
        "id": "EXt96hJ3MzWj"
      }
    },
    {
      "cell_type": "code",
      "source": [
        "gnb_clf_all = GaussianNB()\n",
        "gnb_clf_all.fit(X_train_dod_all, y_train)"
      ],
      "metadata": {
        "colab": {
          "base_uri": "https://localhost:8080/"
        },
        "id": "INRbNPfqMra8",
        "outputId": "e5fd632f-0c32-431a-a489-b2eb67a16f40"
      },
      "execution_count": 104,
      "outputs": [
        {
          "output_type": "execute_result",
          "data": {
            "text/plain": [
              "GaussianNB()"
            ]
          },
          "metadata": {},
          "execution_count": 104
        }
      ]
    },
    {
      "cell_type": "code",
      "source": [
        "gnb_clf_all.score(X_train_dod_all, y_train), gnb_clf_all.score(X_test_dod_all, y_test)"
      ],
      "metadata": {
        "colab": {
          "base_uri": "https://localhost:8080/"
        },
        "id": "kZUvRMIlPOIt",
        "outputId": "18ef8018-332d-4a4a-e562-85a61a89f10a"
      },
      "execution_count": 105,
      "outputs": [
        {
          "output_type": "execute_result",
          "data": {
            "text/plain": [
              "(0.994261119081779, 0.4180602006688963)"
            ]
          },
          "metadata": {},
          "execution_count": 105
        }
      ]
    },
    {
      "cell_type": "code",
      "source": [
        "y_pred_gnb_test_all= gnb_clf_all.predict(X_test_dod_all)\n",
        "print(classification_report(y_test,y_pred_gnb_test_all))"
      ],
      "metadata": {
        "colab": {
          "base_uri": "https://localhost:8080/"
        },
        "id": "rPX_wTiuPSnf",
        "outputId": "5dfbc14f-54d3-48ed-f1e6-2a3ed629af02"
      },
      "execution_count": 106,
      "outputs": [
        {
          "output_type": "stream",
          "name": "stdout",
          "text": [
            "                  precision    recall  f1-score   support\n",
            "\n",
            "       DC Comics       0.39      0.34      0.36        85\n",
            "Inne wydawnictwo       0.22      0.15      0.18        71\n",
            "   Marvel Comics       0.49      0.59      0.53       143\n",
            "\n",
            "        accuracy                           0.42       299\n",
            "       macro avg       0.37      0.36      0.36       299\n",
            "    weighted avg       0.40      0.42      0.40       299\n",
            "\n"
          ]
        }
      ]
    },
    {
      "cell_type": "markdown",
      "source": [
        "## 6. Knn"
      ],
      "metadata": {
        "id": "8fiCvklxPjXJ"
      }
    },
    {
      "cell_type": "code",
      "source": [
        "knn_clf_all = KNeighborsClassifier(n_neighbors=3)\n",
        "knn_clf_all.fit(X_train_dod_all, y_train)"
      ],
      "metadata": {
        "colab": {
          "base_uri": "https://localhost:8080/"
        },
        "id": "B-rlN3tgPcVQ",
        "outputId": "ac02c0c7-8c6e-4fc7-9cb5-c9e18858b9d5"
      },
      "execution_count": 107,
      "outputs": [
        {
          "output_type": "execute_result",
          "data": {
            "text/plain": [
              "KNeighborsClassifier(n_neighbors=3)"
            ]
          },
          "metadata": {},
          "execution_count": 107
        }
      ]
    },
    {
      "cell_type": "code",
      "source": [
        "knn_clf_all.score(X_train_dod_all, y_train), knn_clf_all.score(X_test_dod_all, y_test)"
      ],
      "metadata": {
        "colab": {
          "base_uri": "https://localhost:8080/"
        },
        "id": "poskYj-cPnNC",
        "outputId": "abb5ff0b-8507-4444-b238-0c4abdec4e65"
      },
      "execution_count": 108,
      "outputs": [
        {
          "output_type": "execute_result",
          "data": {
            "text/plain": [
              "(0.6341463414634146, 0.3779264214046823)"
            ]
          },
          "metadata": {},
          "execution_count": 108
        }
      ]
    },
    {
      "cell_type": "code",
      "source": [
        "y_pred_knn_test_all= knn_clf_all.predict(X_test_dod_all)\n",
        "print(classification_report(y_test,y_pred_knn_test_all))"
      ],
      "metadata": {
        "colab": {
          "base_uri": "https://localhost:8080/"
        },
        "id": "BKOrxkIdP-22",
        "outputId": "787a1363-362d-4930-8dad-a2709dc912ff"
      },
      "execution_count": 109,
      "outputs": [
        {
          "output_type": "stream",
          "name": "stdout",
          "text": [
            "                  precision    recall  f1-score   support\n",
            "\n",
            "       DC Comics       0.29      0.42      0.35        85\n",
            "Inne wydawnictwo       0.31      0.20      0.24        71\n",
            "   Marvel Comics       0.48      0.44      0.46       143\n",
            "\n",
            "        accuracy                           0.38       299\n",
            "       macro avg       0.36      0.35      0.35       299\n",
            "    weighted avg       0.39      0.38      0.38       299\n",
            "\n"
          ]
        }
      ]
    },
    {
      "cell_type": "markdown",
      "source": [
        "## 7. Drzewo"
      ],
      "metadata": {
        "id": "l4vnvFIYQIqy"
      }
    },
    {
      "cell_type": "code",
      "source": [
        "tree_clf_all = tree.DecisionTreeClassifier()\n",
        "tree_clf_all.fit(X_train_dod_all, y_train)"
      ],
      "metadata": {
        "colab": {
          "base_uri": "https://localhost:8080/"
        },
        "id": "EwBmFN6qQGD-",
        "outputId": "92cadfcf-eebe-4196-b15f-3979f79edbd8"
      },
      "execution_count": 110,
      "outputs": [
        {
          "output_type": "execute_result",
          "data": {
            "text/plain": [
              "DecisionTreeClassifier()"
            ]
          },
          "metadata": {},
          "execution_count": 110
        }
      ]
    },
    {
      "cell_type": "code",
      "source": [
        "tree_clf_all.score(X_train_dod_all, y_train), tree_clf_all.score(X_test_dod_all, y_test)"
      ],
      "metadata": {
        "colab": {
          "base_uri": "https://localhost:8080/"
        },
        "id": "_iluVRuUQSa0",
        "outputId": "56bcaa3e-607b-4fcf-9c23-52159cc96492"
      },
      "execution_count": 111,
      "outputs": [
        {
          "output_type": "execute_result",
          "data": {
            "text/plain": [
              "(1.0, 0.3779264214046823)"
            ]
          },
          "metadata": {},
          "execution_count": 111
        }
      ]
    },
    {
      "cell_type": "code",
      "source": [
        "y_pred_tree_test_all= tree_clf_all.predict(X_test_dod_all)\n",
        "print(classification_report(y_test,y_pred_tree_test_all))"
      ],
      "metadata": {
        "colab": {
          "base_uri": "https://localhost:8080/"
        },
        "id": "_p5db5g0QW-7",
        "outputId": "0f4ddbef-c270-4f2d-8ebc-41772723e0c5"
      },
      "execution_count": 112,
      "outputs": [
        {
          "output_type": "stream",
          "name": "stdout",
          "text": [
            "                  precision    recall  f1-score   support\n",
            "\n",
            "       DC Comics       0.32      0.31      0.31        85\n",
            "Inne wydawnictwo       0.30      0.28      0.29        71\n",
            "   Marvel Comics       0.45      0.47      0.46       143\n",
            "\n",
            "        accuracy                           0.38       299\n",
            "       macro avg       0.35      0.35      0.35       299\n",
            "    weighted avg       0.37      0.38      0.38       299\n",
            "\n"
          ]
        }
      ]
    },
    {
      "cell_type": "markdown",
      "source": [
        "## 8. SVM"
      ],
      "metadata": {
        "id": "uNYUjPgtQg-2"
      }
    },
    {
      "cell_type": "code",
      "source": [
        "tuned_parameters = [\n",
        "    {\"kernel\": [\"rbf\"],'gamma': ['auto', 'scale'], \"C\": [0.0001,0.001,0.01,0.1,1, 10]},\n",
        "    {\"kernel\": [\"linear\"],  \"C\": [0.0001,0.001,0.01,0.1,1, 10]},\n",
        "    {\"kernel\":[\"poly\"], 'degree': list(range(2,5)), 'gamma': ['auto', 'scale']}\n",
        "]\n",
        "\n",
        "score=\"accuracy\"\n",
        "print(\"# Strojenie hiperparametrów dla największej trafności, ang. %s\" % score)\n",
        "print()\n",
        "clf = GridSearchCV(SVC(), tuned_parameters, scoring=score)\n",
        "\n",
        "clf.fit(X_train_dod_all, y_train)\n",
        "\n",
        "print(\"Najlepszy zestaw parametrów:\")\n",
        "print()\n",
        "print(clf.best_params_)\n",
        "print()\n",
        "print(\"Wyniki dla kolejnych zestawów parametrów:\")\n",
        "print()\n",
        "means = clf.cv_results_[\"mean_test_score\"]\n",
        "stds = clf.cv_results_[\"std_test_score\"]\n",
        "for mean, std, params in zip(means, stds, clf.cv_results_[\"params\"]):\n",
        "    print(\"%0.3f (+/-%0.03f) dla %r\" % (mean, std * 2, params))\n",
        "print()"
      ],
      "metadata": {
        "colab": {
          "base_uri": "https://localhost:8080/"
        },
        "id": "udUbcsgcQcAU",
        "outputId": "c52b438e-e6aa-45ea-a660-d6f20e457b4a"
      },
      "execution_count": 61,
      "outputs": [
        {
          "output_type": "stream",
          "name": "stdout",
          "text": [
            "# Strojenie hiperparametrów dla największej trafności, ang. accuracy\n",
            "\n",
            "Najlepszy zestaw parametrów:\n",
            "\n",
            "{'C': 0.01, 'kernel': 'linear'}\n",
            "\n",
            "Wyniki dla kolejnych zestawów parametrów:\n",
            "\n",
            "0.426 (+/-0.019) dla {'C': 0.0001, 'gamma': 'auto', 'kernel': 'rbf'}\n",
            "0.426 (+/-0.019) dla {'C': 0.0001, 'gamma': 'scale', 'kernel': 'rbf'}\n",
            "0.426 (+/-0.019) dla {'C': 0.001, 'gamma': 'auto', 'kernel': 'rbf'}\n",
            "0.426 (+/-0.019) dla {'C': 0.001, 'gamma': 'scale', 'kernel': 'rbf'}\n",
            "0.426 (+/-0.019) dla {'C': 0.01, 'gamma': 'auto', 'kernel': 'rbf'}\n",
            "0.426 (+/-0.019) dla {'C': 0.01, 'gamma': 'scale', 'kernel': 'rbf'}\n",
            "0.426 (+/-0.019) dla {'C': 0.1, 'gamma': 'auto', 'kernel': 'rbf'}\n",
            "0.426 (+/-0.019) dla {'C': 0.1, 'gamma': 'scale', 'kernel': 'rbf'}\n",
            "0.426 (+/-0.019) dla {'C': 1, 'gamma': 'auto', 'kernel': 'rbf'}\n",
            "0.517 (+/-0.115) dla {'C': 1, 'gamma': 'scale', 'kernel': 'rbf'}\n",
            "0.426 (+/-0.019) dla {'C': 10, 'gamma': 'auto', 'kernel': 'rbf'}\n",
            "0.487 (+/-0.154) dla {'C': 10, 'gamma': 'scale', 'kernel': 'rbf'}\n",
            "0.426 (+/-0.019) dla {'C': 0.0001, 'kernel': 'linear'}\n",
            "0.432 (+/-0.034) dla {'C': 0.001, 'kernel': 'linear'}\n",
            "0.543 (+/-0.083) dla {'C': 0.01, 'kernel': 'linear'}\n",
            "0.492 (+/-0.149) dla {'C': 0.1, 'kernel': 'linear'}\n",
            "0.482 (+/-0.176) dla {'C': 1, 'kernel': 'linear'}\n",
            "0.472 (+/-0.225) dla {'C': 10, 'kernel': 'linear'}\n",
            "0.426 (+/-0.019) dla {'degree': 2, 'gamma': 'auto', 'kernel': 'poly'}\n",
            "0.493 (+/-0.080) dla {'degree': 2, 'gamma': 'scale', 'kernel': 'poly'}\n",
            "0.426 (+/-0.019) dla {'degree': 3, 'gamma': 'auto', 'kernel': 'poly'}\n",
            "0.467 (+/-0.083) dla {'degree': 3, 'gamma': 'scale', 'kernel': 'poly'}\n",
            "0.426 (+/-0.019) dla {'degree': 4, 'gamma': 'auto', 'kernel': 'poly'}\n",
            "0.452 (+/-0.050) dla {'degree': 4, 'gamma': 'scale', 'kernel': 'poly'}\n",
            "\n"
          ]
        }
      ]
    },
    {
      "cell_type": "code",
      "source": [
        "svm_clf_all = LinearSVC(C=0.01)\n",
        "svm_clf_all.fit(X_train_dod_all, y_train)"
      ],
      "metadata": {
        "colab": {
          "base_uri": "https://localhost:8080/"
        },
        "id": "wWdqHXJyRFDM",
        "outputId": "88a9a5c5-3b33-42ca-dd0e-d9cfd4cf3ef7"
      },
      "execution_count": 113,
      "outputs": [
        {
          "output_type": "execute_result",
          "data": {
            "text/plain": [
              "LinearSVC(C=0.01)"
            ]
          },
          "metadata": {},
          "execution_count": 113
        }
      ]
    },
    {
      "cell_type": "code",
      "source": [
        "svm_clf_all.score(X_train_dod_all, y_train), svm_clf_all.score(X_test_dod_all, y_test)"
      ],
      "metadata": {
        "colab": {
          "base_uri": "https://localhost:8080/"
        },
        "id": "C9MiFy2DUgH4",
        "outputId": "df546f95-93a8-41c5-dc48-15e974462bed"
      },
      "execution_count": 114,
      "outputs": [
        {
          "output_type": "execute_result",
          "data": {
            "text/plain": [
              "(0.539454806312769, 0.42474916387959866)"
            ]
          },
          "metadata": {},
          "execution_count": 114
        }
      ]
    },
    {
      "cell_type": "code",
      "source": [
        "y_pred_svm_test_all= svm_clf_all.predict(X_test_dod_all)\n",
        "print(classification_report(y_test,y_pred_svm_test_all))"
      ],
      "metadata": {
        "colab": {
          "base_uri": "https://localhost:8080/"
        },
        "id": "ORwuvUQ_Us3o",
        "outputId": "480f9835-b2bf-4c89-9525-8649f1ffd37e"
      },
      "execution_count": 115,
      "outputs": [
        {
          "output_type": "stream",
          "name": "stdout",
          "text": [
            "                  precision    recall  f1-score   support\n",
            "\n",
            "       DC Comics       0.26      0.13      0.17        85\n",
            "Inne wydawnictwo       0.24      0.10      0.14        71\n",
            "   Marvel Comics       0.48      0.76      0.59       143\n",
            "\n",
            "        accuracy                           0.42       299\n",
            "       macro avg       0.33      0.33      0.30       299\n",
            "    weighted avg       0.36      0.42      0.36       299\n",
            "\n"
          ]
        }
      ]
    },
    {
      "cell_type": "markdown",
      "source": [
        "## 9. ROC"
      ],
      "metadata": {
        "id": "FqH08SBZV10j"
      }
    },
    {
      "cell_type": "code",
      "source": [
        "y_train_t = y_train.map({'DC Comics':0, 'Marvel Comics':1, 'Inne wydawnictwo':2})\n",
        "y_test_t = y_test.map({'DC Comics':0, 'Marvel Comics':1, 'Inne wydawnictwo':2})"
      ],
      "metadata": {
        "id": "Md8UTEcOUxzL"
      },
      "execution_count": 116,
      "outputs": []
    },
    {
      "cell_type": "code",
      "source": [
        "plot_ROC_curve(gnb_clf_all, X_train_dod_all, y_train_t, X_test_dod_all, y_test_t)"
      ],
      "metadata": {
        "colab": {
          "base_uri": "https://localhost:8080/",
          "height": 436
        },
        "id": "CFe_EP4UV5zQ",
        "outputId": "30b7d4a2-de76-4fb3-ea38-c2bc71fbafd3"
      },
      "execution_count": 117,
      "outputs": [
        {
          "output_type": "stream",
          "name": "stderr",
          "text": [
            "/usr/local/lib/python3.7/dist-packages/numpy/core/numeric.py:2446: FutureWarning: elementwise comparison failed; returning scalar instead, but in the future will perform elementwise comparison\n",
            "  return bool(asarray(a1 == a2).all())\n",
            "/usr/local/lib/python3.7/dist-packages/sklearn/metrics/_classification.py:217: FutureWarning: elementwise comparison failed; returning scalar instead, but in the future will perform elementwise comparison\n",
            "  score = y_true == y_pred\n"
          ]
        },
        {
          "output_type": "display_data",
          "data": {
            "text/plain": [
              "<Figure size 432x288 with 1 Axes>"
            ],
            "image/png": "[encoded data removed]"
          },
          "metadata": {
            "needs_background": "light"
          }
        },
        {
          "output_type": "execute_result",
          "data": {
            "text/plain": [
              "ROCAUC(ax=<matplotlib.axes._subplots.AxesSubplot object at 0x7f9237df0810>,\n",
              "       classes=['DC Comics', 'Marvel Comics', 'Inne wydawnictwo'],\n",
              "       estimator=GaussianNB(), force_model=True, macro=False, micro=False)"
            ]
          },
          "metadata": {},
          "execution_count": 117
        }
      ]
    },
    {
      "cell_type": "code",
      "source": [
        "plot_ROC_curve(knn_clf_all, X_train_dod_all, y_train_t, X_test_dod_all, y_test_t)"
      ],
      "metadata": {
        "colab": {
          "base_uri": "https://localhost:8080/",
          "height": 363
        },
        "id": "FzCE4YKyWDDL",
        "outputId": "60c8140b-2a5f-4ce8-df87-91cd687a2b26"
      },
      "execution_count": 118,
      "outputs": [
        {
          "output_type": "display_data",
          "data": {
            "text/plain": [
              "<Figure size 432x288 with 1 Axes>"
            ],
            "image/png": "[encoded data removed]"
          },
          "metadata": {
            "needs_background": "light"
          }
        },
        {
          "output_type": "execute_result",
          "data": {
            "text/plain": [
              "ROCAUC(ax=<matplotlib.axes._subplots.AxesSubplot object at 0x7f9237b41610>,\n",
              "       classes=['DC Comics', 'Marvel Comics', 'Inne wydawnictwo'],\n",
              "       estimator=KNeighborsClassifier(n_neighbors=3), force_model=True,\n",
              "       macro=False, micro=False)"
            ]
          },
          "metadata": {},
          "execution_count": 118
        }
      ]
    },
    {
      "cell_type": "code",
      "source": [
        "plot_ROC_curve(tree_clf_all, X_train_dod_all, y_train_t, X_test_dod_all, y_test_t)"
      ],
      "metadata": {
        "colab": {
          "base_uri": "https://localhost:8080/",
          "height": 363
        },
        "id": "SlsEO9c4WQJS",
        "outputId": "4674cb13-7a11-4907-86db-98dcfac9d269"
      },
      "execution_count": 119,
      "outputs": [
        {
          "output_type": "display_data",
          "data": {
            "text/plain": [
              "<Figure size 432x288 with 1 Axes>"
            ],
            "image/png": "[encoded data removed]"
          },
          "metadata": {
            "needs_background": "light"
          }
        },
        {
          "output_type": "execute_result",
          "data": {
            "text/plain": [
              "ROCAUC(ax=<matplotlib.axes._subplots.AxesSubplot object at 0x7f9237b5a310>,\n",
              "       classes=['DC Comics', 'Marvel Comics', 'Inne wydawnictwo'],\n",
              "       estimator=DecisionTreeClassifier(), force_model=True, macro=False,\n",
              "       micro=False)"
            ]
          },
          "metadata": {},
          "execution_count": 119
        }
      ]
    },
    {
      "cell_type": "code",
      "source": [
        "plot_ROC_curve(svm_clf_all, X_train_dod_all, y_train_t, X_test_dod_all, y_test_t)"
      ],
      "metadata": {
        "colab": {
          "base_uri": "https://localhost:8080/",
          "height": 346
        },
        "id": "j_hZfVasWSqn",
        "outputId": "6004c463-a202-4486-f737-d8555c239fde"
      },
      "execution_count": 120,
      "outputs": [
        {
          "output_type": "display_data",
          "data": {
            "text/plain": [
              "<Figure size 432x288 with 1 Axes>"
            ],
            "image/png": "[encoded data removed]"
          },
          "metadata": {
            "needs_background": "light"
          }
        },
        {
          "output_type": "execute_result",
          "data": {
            "text/plain": [
              "ROCAUC(ax=<matplotlib.axes._subplots.AxesSubplot object at 0x7f9237b6bd90>,\n",
              "       classes=['DC Comics', 'Marvel Comics', 'Inne wydawnictwo'],\n",
              "       estimator=LinearSVC(C=0.01), force_model=True, macro=False, micro=False)"
            ]
          },
          "metadata": {},
          "execution_count": 120
        }
      ]
    },
    {
      "cell_type": "markdown",
      "source": [
        "## 10. Wnioski"
      ],
      "metadata": {
        "id": "cKXovQkckz36"
      }
    },
    {
      "cell_type": "markdown",
      "source": [
        "Zaskakująco, patrząc na wyniki modeli dla całego zbioru danych, wyniki modeli są znacznie gorsze niż dla modeli, które posiadały jedynie dwie zmienne. Żaden z modeli nie przekroczył 0.5 dla trafności dla danych testowych. Krzywe ROC układają się na przekątnej. Mocno uogulniając modele dla całych danych poradziły sobie bardzo słabo, ale poradziły sobie bardzo słabo dla wszystkich kategorii. Nie ma kategorii, która się mocno wybija jako taka, którą łatwo przypisać (taką sytuację mieliśmy w #1. dla dwóch zmiennych, gdzie Marvel i DC mocno ciągnęły trafność w górę). A więc można powiedzieć, że modele nie faworyzują żadnej z grup.\n",
        "\n",
        "Można wysnuć taki wniosek, że być może sytuacja ta związana jest z tym, że wielu superbohaterów ma podobne cechy, są silne, potrafią latać itp, i jest to niezależne od wydawnictwa. Najbardziej postacie te i wydawnictwa rozdzielają historie, ale gdy dodamy im punkty za inne umiejętności (mimo standaryzacji zmiennych numerycznych) granice te zaczynają się zacierać."
      ],
      "metadata": {
        "id": "T1PagC04l_b7"
      }
    }
  ]
}